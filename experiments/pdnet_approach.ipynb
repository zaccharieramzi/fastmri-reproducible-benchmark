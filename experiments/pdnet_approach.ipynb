{
 "cells": [
  {
   "cell_type": "code",
   "execution_count": 1,
   "metadata": {},
   "outputs": [
    {
     "name": "stdout",
     "output_type": "stream",
     "text": [
      "/volatile/home/Zaccharie/workspace/fastmri-reproducible-benchmark\n"
     ]
    }
   ],
   "source": [
    "%cd .."
   ]
  },
  {
   "cell_type": "code",
   "execution_count": 2,
   "metadata": {},
   "outputs": [],
   "source": [
    "# # this just to make sure we are using only on CPU\n",
    "# import os\n",
    "# os.environ[\"CUDA_VISIBLE_DEVICES\"]=\"-1\""
   ]
  },
  {
   "cell_type": "code",
   "execution_count": 3,
   "metadata": {},
   "outputs": [
    {
     "name": "stderr",
     "output_type": "stream",
     "text": [
      "Using TensorFlow backend.\n"
     ]
    }
   ],
   "source": [
    "%load_ext autoreload\n",
    "%autoreload 2\n",
    "%matplotlib nbagg\n",
    "import os.path as op\n",
    "import time\n",
    "\n",
    "from keras_tqdm import TQDMNotebookCallback\n",
    "import tensorflow as tf\n",
    "from tensorflow.keras.callbacks import TensorBoard, ModelCheckpoint\n",
    "from tqdm import tqdm_notebook\n",
    "\n",
    "from fastmri_recon.data.fastmri_sequences import Masked2DSequence\n",
    "from fastmri_recon.models.pdnet import pdnet"
   ]
  },
  {
   "cell_type": "code",
   "execution_count": 4,
   "metadata": {},
   "outputs": [],
   "source": [
    "# paths\n",
    "train_path = '/media/Zaccharie/UHRes/singlecoil_train/singlecoil_train/'\n",
    "val_path = '/media/Zaccharie/UHRes/singlecoil_val/'\n",
    "test_path = '/media/Zaccharie/UHRes/singlecoil_test/'"
   ]
  },
  {
   "cell_type": "code",
   "execution_count": 5,
   "metadata": {},
   "outputs": [],
   "source": [
    "n_samples_train = 34742\n",
    "n_samples_val = 7135\n",
    "\n",
    "n_volumes_train = 973\n",
    "n_volumes_val = 199"
   ]
  },
  {
   "cell_type": "code",
   "execution_count": 6,
   "metadata": {},
   "outputs": [],
   "source": [
    "# generators\n",
    "AF = 4\n",
    "train_set = Masked2DSequence(train_path, af=AF, inner_slices=8, rand=True, scale_factor=1e6)\n",
    "val_set = Masked2DSequence(val_path, af=AF, scale_factor=1e6)"
   ]
  },
  {
   "cell_type": "code",
   "execution_count": 7,
   "metadata": {},
   "outputs": [
    {
     "name": "stdout",
     "output_type": "stream",
     "text": [
      "pdnet_af4_1580292254\n"
     ]
    }
   ],
   "source": [
    "run_params = {\n",
    "    'n_primal': 5,\n",
    "    'n_dual': 5,\n",
    "    'n_iter': 10,\n",
    "    'n_filters': 32,\n",
    "}\n",
    "\n",
    "n_epochs = 10\n",
    "run_id = f'pdnet_af{AF}_{int(time.time())}'\n",
    "chkpt_path = f'checkpoints/{run_id}' + '-{epoch:02d}.hdf5'\n",
    "print(run_id)"
   ]
  },
  {
   "cell_type": "code",
   "execution_count": 8,
   "metadata": {},
   "outputs": [
    {
     "name": "stdout",
     "output_type": "stream",
     "text": [
      "WARNING:tensorflow:`period` argument is deprecated. Please use `save_freq` to specify the frequency in number of samples seen.\n"
     ]
    }
   ],
   "source": [
    "chkpt_cback = ModelCheckpoint(chkpt_path, period=100, save_weights_only=True)\n",
    "log_dir = op.join('logs', run_id)\n",
    "tboard_cback = TensorBoard(\n",
    "    log_dir=log_dir, \n",
    "    histogram_freq=0, \n",
    "    write_graph=True, \n",
    "    write_images=False, \n",
    "    profile_batch=0,\n",
    ")\n",
    "tqdm_cb = TQDMNotebookCallback(metric_format=\"{name}: {value:e}\")\n",
    "tqdm_cb.on_train_batch_begin = tqdm_cb.on_batch_begin\n",
    "tqdm_cb.on_train_batch_end = tqdm_cb.on_batch_end"
   ]
  },
  {
   "cell_type": "code",
   "execution_count": 9,
   "metadata": {
    "scrolled": true
   },
   "outputs": [
    {
     "name": "stdout",
     "output_type": "stream",
     "text": [
      "Model: \"model\"\n",
      "______________________________________________________________________________________________________________________________________________________\n",
      "Layer (type)                                     Output Shape                     Param #           Connected to                                      \n",
      "======================================================================================================================================================\n",
      "kspace_input (InputLayer)                        [(None, 640, None, 1)]           0                                                                   \n",
      "______________________________________________________________________________________________________________________________________________________\n",
      "buffer_primal (Lambda)                           (None, 640, None, 5)             0                 kspace_input[0][0]                                \n",
      "______________________________________________________________________________________________________________________________________________________\n",
      "mask_input (InputLayer)                          [(None, 640, None)]              0                                                                   \n",
      "______________________________________________________________________________________________________________________________________________________\n",
      "buffer_dual (Lambda)                             (None, 640, None, 5)             0                 kspace_input[0][0]                                \n",
      "______________________________________________________________________________________________________________________________________________________\n",
      "fft_masked_1 (Lambda)                            (None, 640, None, 1)             0                 buffer_primal[0][0]                               \n",
      "                                                                                                    mask_input[0][0]                                  \n",
      "______________________________________________________________________________________________________________________________________________________\n",
      "concatenate (Concatenate)                        (None, 640, None, 7)             0                 buffer_dual[0][0]                                 \n",
      "                                                                                                    fft_masked_1[0][0]                                \n",
      "                                                                                                    kspace_input[0][0]                                \n",
      "______________________________________________________________________________________________________________________________________________________\n",
      "lambda (Lambda)                                  (None, 640, None, 7)             0                 concatenate[0][0]                                 \n",
      "______________________________________________________________________________________________________________________________________________________\n",
      "lambda_1 (Lambda)                                (None, 640, None, 7)             0                 concatenate[0][0]                                 \n",
      "______________________________________________________________________________________________________________________________________________________\n",
      "concatenate_1 (Concatenate)                      (None, 640, None, 14)            0                 lambda[0][0]                                      \n",
      "                                                                                                    lambda_1[0][0]                                    \n",
      "______________________________________________________________________________________________________________________________________________________\n",
      "conv2d (Conv2D)                                  (None, 640, None, 32)            4064              concatenate_1[0][0]                               \n",
      "______________________________________________________________________________________________________________________________________________________\n",
      "conv2d_1 (Conv2D)                                (None, 640, None, 32)            9248              conv2d[0][0]                                      \n",
      "______________________________________________________________________________________________________________________________________________________\n",
      "conv2d_2 (Conv2D)                                (None, 640, None, 10)            2890              conv2d_1[0][0]                                    \n",
      "______________________________________________________________________________________________________________________________________________________\n",
      "lambda_2 (Lambda)                                (None, 640, None, 5)             0                 conv2d_2[0][0]                                    \n",
      "______________________________________________________________________________________________________________________________________________________\n",
      "add (Add)                                        (None, 640, None, 5)             0                 buffer_dual[0][0]                                 \n",
      "                                                                                                    lambda_2[0][0]                                    \n",
      "______________________________________________________________________________________________________________________________________________________\n",
      "ifft_masked_1 (Lambda)                           (None, 640, None, 1)             0                 add[0][0]                                         \n",
      "                                                                                                    mask_input[0][0]                                  \n",
      "______________________________________________________________________________________________________________________________________________________\n",
      "concatenate_2 (Concatenate)                      (None, 640, None, 6)             0                 buffer_primal[0][0]                               \n",
      "                                                                                                    ifft_masked_1[0][0]                               \n",
      "______________________________________________________________________________________________________________________________________________________\n",
      "lambda_3 (Lambda)                                (None, 640, None, 6)             0                 concatenate_2[0][0]                               \n",
      "______________________________________________________________________________________________________________________________________________________\n",
      "lambda_4 (Lambda)                                (None, 640, None, 6)             0                 concatenate_2[0][0]                               \n",
      "______________________________________________________________________________________________________________________________________________________\n",
      "concatenate_3 (Concatenate)                      (None, 640, None, 12)            0                 lambda_3[0][0]                                    \n",
      "                                                                                                    lambda_4[0][0]                                    \n",
      "______________________________________________________________________________________________________________________________________________________\n",
      "conv2d_3 (Conv2D)                                (None, 640, None, 32)            3488              concatenate_3[0][0]                               \n",
      "______________________________________________________________________________________________________________________________________________________\n",
      "conv2d_4 (Conv2D)                                (None, 640, None, 32)            9248              conv2d_3[0][0]                                    \n",
      "______________________________________________________________________________________________________________________________________________________\n",
      "conv2d_5 (Conv2D)                                (None, 640, None, 10)            2890              conv2d_4[0][0]                                    \n",
      "______________________________________________________________________________________________________________________________________________________\n",
      "lambda_5 (Lambda)                                (None, 640, None, 5)             0                 conv2d_5[0][0]                                    \n",
      "______________________________________________________________________________________________________________________________________________________\n",
      "add_1 (Add)                                      (None, 640, None, 5)             0                 buffer_primal[0][0]                               \n",
      "                                                                                                    lambda_5[0][0]                                    \n",
      "______________________________________________________________________________________________________________________________________________________\n",
      "fft_masked_2 (Lambda)                            (None, 640, None, 1)             0                 add_1[0][0]                                       \n",
      "                                                                                                    mask_input[0][0]                                  \n",
      "______________________________________________________________________________________________________________________________________________________\n",
      "concatenate_4 (Concatenate)                      (None, 640, None, 7)             0                 add[0][0]                                         \n",
      "                                                                                                    fft_masked_2[0][0]                                \n",
      "                                                                                                    kspace_input[0][0]                                \n",
      "______________________________________________________________________________________________________________________________________________________\n",
      "lambda_6 (Lambda)                                (None, 640, None, 7)             0                 concatenate_4[0][0]                               \n",
      "______________________________________________________________________________________________________________________________________________________\n",
      "lambda_7 (Lambda)                                (None, 640, None, 7)             0                 concatenate_4[0][0]                               \n",
      "______________________________________________________________________________________________________________________________________________________\n",
      "concatenate_5 (Concatenate)                      (None, 640, None, 14)            0                 lambda_6[0][0]                                    \n",
      "                                                                                                    lambda_7[0][0]                                    \n",
      "______________________________________________________________________________________________________________________________________________________\n",
      "conv2d_6 (Conv2D)                                (None, 640, None, 32)            4064              concatenate_5[0][0]                               \n",
      "______________________________________________________________________________________________________________________________________________________\n",
      "conv2d_7 (Conv2D)                                (None, 640, None, 32)            9248              conv2d_6[0][0]                                    \n",
      "______________________________________________________________________________________________________________________________________________________\n",
      "conv2d_8 (Conv2D)                                (None, 640, None, 10)            2890              conv2d_7[0][0]                                    \n",
      "______________________________________________________________________________________________________________________________________________________\n",
      "lambda_8 (Lambda)                                (None, 640, None, 5)             0                 conv2d_8[0][0]                                    \n",
      "______________________________________________________________________________________________________________________________________________________\n",
      "add_2 (Add)                                      (None, 640, None, 5)             0                 add[0][0]                                         \n",
      "                                                                                                    lambda_8[0][0]                                    \n",
      "______________________________________________________________________________________________________________________________________________________\n",
      "ifft_masked_2 (Lambda)                           (None, 640, None, 1)             0                 add_2[0][0]                                       \n",
      "                                                                                                    mask_input[0][0]                                  \n",
      "______________________________________________________________________________________________________________________________________________________\n",
      "concatenate_6 (Concatenate)                      (None, 640, None, 6)             0                 add_1[0][0]                                       \n",
      "                                                                                                    ifft_masked_2[0][0]                               \n",
      "______________________________________________________________________________________________________________________________________________________\n",
      "lambda_9 (Lambda)                                (None, 640, None, 6)             0                 concatenate_6[0][0]                               \n",
      "______________________________________________________________________________________________________________________________________________________\n",
      "lambda_10 (Lambda)                               (None, 640, None, 6)             0                 concatenate_6[0][0]                               \n",
      "______________________________________________________________________________________________________________________________________________________\n",
      "concatenate_7 (Concatenate)                      (None, 640, None, 12)            0                 lambda_9[0][0]                                    \n",
      "                                                                                                    lambda_10[0][0]                                   \n",
      "______________________________________________________________________________________________________________________________________________________\n",
      "conv2d_9 (Conv2D)                                (None, 640, None, 32)            3488              concatenate_7[0][0]                               \n",
      "______________________________________________________________________________________________________________________________________________________\n",
      "conv2d_10 (Conv2D)                               (None, 640, None, 32)            9248              conv2d_9[0][0]                                    \n",
      "______________________________________________________________________________________________________________________________________________________\n",
      "conv2d_11 (Conv2D)                               (None, 640, None, 10)            2890              conv2d_10[0][0]                                   \n",
      "______________________________________________________________________________________________________________________________________________________\n",
      "lambda_11 (Lambda)                               (None, 640, None, 5)             0                 conv2d_11[0][0]                                   \n",
      "______________________________________________________________________________________________________________________________________________________\n",
      "add_3 (Add)                                      (None, 640, None, 5)             0                 add_1[0][0]                                       \n",
      "                                                                                                    lambda_11[0][0]                                   \n",
      "______________________________________________________________________________________________________________________________________________________\n",
      "image_getting (Lambda)                           (None, 640, None, 1)             0                 add_3[0][0]                                       \n",
      "______________________________________________________________________________________________________________________________________________________\n",
      "cropping (Lambda)                                (None, None, None, 1)            0                 image_getting[0][0]                               \n",
      "======================================================================================================================================================\n",
      "Total params: 63,656\n",
      "Trainable params: 63,656\n",
      "Non-trainable params: 0\n",
      "______________________________________________________________________________________________________________________________________________________\n",
      "None\n"
     ]
    }
   ],
   "source": [
    "model = pdnet(lr=1e-3, **run_params)\n",
    "print(model.summary(line_length=150))"
   ]
  },
  {
   "cell_type": "code",
   "execution_count": 10,
   "metadata": {
    "scrolled": false
   },
   "outputs": [
    {
     "name": "stderr",
     "output_type": "stream",
     "text": [
      "/volatile/home/Zaccharie/workspace/fastmri-reproducible-benchmark/fastmri_recon/data/data_utils.py:18: H5pyDeprecationWarning: The default file mode will change to 'r' (read-only) in h5py 3.0. To suppress this warning, pass the mode you need to h5py.File(), or set the global default h5.get_config().default_file_mode, or set the environment variable H5PY_DEFAULT_READONLY=1. Available modes are: 'r', 'r+', 'w', 'w-'/'x', 'a'. See the docs for details.\n",
      "  with h5py.File(filename) as h5_obj:\n"
     ]
    },
    {
     "name": "stdout",
     "output_type": "stream",
     "text": [
      "WARNING:tensorflow:sample_weight modes were coerced from\n",
      "  ...\n",
      "    to  \n",
      "  ['...']\n",
      "Train for 5 steps\n",
      "Epoch 1/10\n"
     ]
    },
    {
     "name": "stderr",
     "output_type": "stream",
     "text": [
      "/volatile/home/Zaccharie/workspace/fastmri-reproducible-benchmark/fastmri_recon/data/data_utils.py:18: H5pyDeprecationWarning: The default file mode will change to 'r' (read-only) in h5py 3.0. To suppress this warning, pass the mode you need to h5py.File(), or set the global default h5.get_config().default_file_mode, or set the environment variable H5PY_DEFAULT_READONLY=1. Available modes are: 'r', 'r+', 'w', 'w-'/'x', 'a'. See the docs for details.\n",
      "  with h5py.File(filename) as h5_obj:\n"
     ]
    },
    {
     "name": "stdout",
     "output_type": "stream",
     "text": [
      "5/5 [==============================] - 29s 6s/step - loss: 37.2598 - mean_squared_error: 2972.1030 - keras_psnr: 14.6130 - keras_ssim: 0.1673\n",
      "Epoch 2/10\n",
      "5/5 [==============================] - 27s 5s/step - loss: 19.5920 - mean_squared_error: 798.5304 - keras_psnr: 16.6481 - keras_ssim: 0.2758\n",
      "Epoch 3/10\n",
      "5/5 [==============================] - 26s 5s/step - loss: 27.2697 - mean_squared_error: 2475.0693 - keras_psnr: 18.1443 - keras_ssim: 0.3622\n",
      "Epoch 4/10\n",
      "5/5 [==============================] - 28s 6s/step - loss: 16.3294 - mean_squared_error: 681.7512 - keras_psnr: 18.9728 - keras_ssim: 0.3270\n",
      "Epoch 5/10\n",
      "5/5 [==============================] - 27s 5s/step - loss: 30.7016 - mean_squared_error: 2167.7847 - keras_psnr: 18.2483 - keras_ssim: 0.3983\n",
      "Epoch 6/10\n",
      "5/5 [==============================] - 27s 5s/step - loss: 16.6790 - mean_squared_error: 676.5579 - keras_psnr: 19.2699 - keras_ssim: 0.3400\n",
      "Epoch 7/10\n",
      "5/5 [==============================] - 26s 5s/step - loss: 24.9254 - mean_squared_error: 1421.9127 - keras_psnr: 19.3107 - keras_ssim: 0.3816\n",
      "Epoch 8/10\n",
      "5/5 [==============================] - 26s 5s/step - loss: 18.2249 - mean_squared_error: 793.8065 - keras_psnr: 20.2950 - keras_ssim: 0.3565\n",
      "Epoch 9/10\n",
      "5/5 [==============================] - 27s 5s/step - loss: 13.2408 - mean_squared_error: 360.8833 - keras_psnr: 21.7414 - keras_ssim: 0.3859\n",
      "Epoch 10/10\n",
      "5/5 [==============================] - 26s 5s/step - loss: 9.9158 - mean_squared_error: 226.3711 - keras_psnr: 22.4346 - keras_ssim: 0.3352\n",
      "CPU times: user 18min 55s, sys: 11min 36s, total: 30min 31s\n",
      "Wall time: 4min 43s\n"
     ]
    },
    {
     "data": {
      "text/plain": [
       "<tensorflow.python.keras.callbacks.History at 0x7f0798199518>"
      ]
     },
     "execution_count": 10,
     "metadata": {},
     "output_type": "execute_result"
    }
   ],
   "source": [
    "%%time\n",
    "model.fit(\n",
    "    train_set, \n",
    "    steps_per_epoch=5, \n",
    "    epochs=n_epochs,\n",
    "    validation_data=val_set,\n",
    "    validation_steps=1,\n",
    "    verbose=1,\n",
    "    callbacks=[tqdm_cb, tboard_cback, chkpt_cback,],\n",
    ")"
   ]
  },
  {
   "cell_type": "code",
   "execution_count": 11,
   "metadata": {
    "scrolled": false
   },
   "outputs": [],
   "source": [
    "# %%time\n",
    "# # simple overfit trials\n",
    "# data = next(iter(train_ds))\n",
    "# model.fit(\n",
    "#     x=data[0], \n",
    "#     y=data[1], \n",
    "#     batch_size=data[0][0].shape[0], \n",
    "#     epochs=500,\n",
    "#     verbose=2, \n",
    "#     shuffle=False,\n",
    "# )"
   ]
  },
  {
   "cell_type": "code",
   "execution_count": null,
   "metadata": {},
   "outputs": [],
   "source": []
  }
 ],
 "metadata": {
  "kernelspec": {
   "display_name": "Python 3",
   "language": "python",
   "name": "python3"
  },
  "language_info": {
   "codemirror_mode": {
    "name": "ipython",
    "version": 3
   },
   "file_extension": ".py",
   "mimetype": "text/x-python",
   "name": "python",
   "nbconvert_exporter": "python",
   "pygments_lexer": "ipython3",
   "version": "3.6.8"
  }
 },
 "nbformat": 4,
 "nbformat_minor": 2
}

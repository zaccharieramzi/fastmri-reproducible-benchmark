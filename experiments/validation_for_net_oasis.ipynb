{
 "cells": [
  {
   "cell_type": "code",
   "execution_count": 1,
   "metadata": {},
   "outputs": [],
   "source": [
    "%load_ext autoreload\n",
    "%autoreload 2\n",
    "%matplotlib nbagg\n",
    "import random\n",
    "import time\n",
    "import warnings\n",
    "warnings.filterwarnings(\"ignore\")\n",
    "\n",
    "import matplotlib.pyplot as plt\n",
    "import numpy as np\n",
    "import pandas as pd\n",
    "from tqdm import tqdm_notebook\n",
    "\n",
    "from fastmri_recon.data.sequences.oasis_sequences import Masked2DSequence, ZeroFilled2DSequence\n",
    "from fastmri_recon.evaluate.metrics.np_metrics import METRIC_FUNCS, Metrics\n",
    "from fastmri_recon.evaluate.reconstruction.zero_filled_reconstruction import reco_and_gt_zfilled_from_val_file\n",
    "from fastmri_recon.evaluate.reconstruction.cross_domain_reconstruction import reco_and_gt_net_from_val_file\n",
    "from fastmri_recon.evaluate.reconstruction.unet_reconstruction import reco_and_gt_unet_from_val_file \n",
    "from fastmri_recon.models.functional_models.cascading import cascade_net\n",
    "from fastmri_recon.models.functional_models.kiki import kiki_net\n",
    "from fastmri_recon.models.functional_models.kiki_sep import full_kiki_net\n",
    "from fastmri_recon.models.functional_models.pdnet import pdnet\n",
    "from fastmri_recon.models.functional_models.unet import unet\n",
    "from fastmri_recon.models.utils.non_linearities import lrelu"
   ]
  },
  {
   "cell_type": "code",
   "execution_count": 2,
   "metadata": {},
   "outputs": [],
   "source": [
    "np.random.seed(0)"
   ]
  },
  {
   "cell_type": "code",
   "execution_count": 3,
   "metadata": {},
   "outputs": [],
   "source": [
    "plt.rcParams['figure.figsize'] = (9, 5)\n",
    "plt.rcParams['image.cmap'] = 'gray'"
   ]
  },
  {
   "cell_type": "code",
   "execution_count": 4,
   "metadata": {},
   "outputs": [],
   "source": [
    "AF = 4"
   ]
  },
  {
   "cell_type": "code",
   "execution_count": 5,
   "metadata": {},
   "outputs": [],
   "source": [
    "# paths\n",
    "train_path = '/media/Zaccharie/UHRes/OASIS_data/'\n",
    "train_gen = Masked2DSequence(\n",
    "    train_path,\n",
    "    af=AF,\n",
    "    inner_slices=32,\n",
    "    scale_factor=1e-2,\n",
    "    seed=0,\n",
    "    rand=True,\n",
    "    val_split=0.1,\n",
    ")\n",
    "val_gen_mask = train_gen.val_sequence\n",
    "n_train = 1000\n",
    "n_val = 2\n",
    "random.seed(0)\n",
    "train_gen.filenames = random.sample(train_gen.filenames, n_train)\n",
    "val_gen_mask.filenames = random.sample(val_gen_mask.filenames, n_val)\n",
    "\n",
    "train_gen_zero = ZeroFilled2DSequence(\n",
    "    train_path,\n",
    "    af=AF,\n",
    "    inner_slices=32,\n",
    "    scale_factor=1e-2,\n",
    "    seed=0,\n",
    "    rand=False,\n",
    "    val_split=0.1,\n",
    "    n_pooling=3,\n",
    ")\n",
    "val_gen_zero = train_gen_zero.val_sequence\n",
    "random.seed(0)\n",
    "train_gen_zero.filenames = random.sample(train_gen_zero.filenames, n_train)\n",
    "val_gen_zero.filenames = random.sample(val_gen_zero.filenames, n_val)"
   ]
  },
  {
   "cell_type": "code",
   "execution_count": 6,
   "metadata": {},
   "outputs": [],
   "source": [
    "all_net_params = [\n",
    "    {\n",
    "        'name': 'unet',\n",
    "        'init_function': unet,\n",
    "        'run_params': {\n",
    "            'n_layers': 4,\n",
    "            'pool': 'max',\n",
    "            \"layers_n_channels\": [16, 32, 64, 128],\n",
    "            'layers_n_non_lins': 2,\n",
    "        },\n",
    "        'val_gen': val_gen_zero,\n",
    "        'run_id': 'unet_af4_oasis_1570619888',\n",
    "    },\n",
    "    {\n",
    "        'name': 'pdnet',\n",
    "        'init_function': pdnet,\n",
    "        'run_params': {\n",
    "            'n_primal': 5,\n",
    "            'n_dual': 5,\n",
    "            'n_iter': 10,\n",
    "            'n_filters': 32,\n",
    "        },\n",
    "        'run_id': 'pdnet_af4_oasis_1570722239',\n",
    "    },\n",
    "    {\n",
    "        'name': 'cascadenet',\n",
    "        'init_function': cascade_net,\n",
    "        'run_params': {\n",
    "            'n_cascade': 5,\n",
    "            'n_convs': 5,\n",
    "            'n_filters': 48,\n",
    "            'noiseless': True,\n",
    "        },\n",
    "        'run_id': 'cascadenet_af4_oasis_1569491836',\n",
    "    },\n",
    "    {\n",
    "        'name': 'kikinet-sep',\n",
    "        'init_function': full_kiki_net,\n",
    "        'run_params': {\n",
    "            'n_convs': 16,\n",
    "            'n_filters': 48,\n",
    "            'noiseless': True,\n",
    "            'activation': lrelu,\n",
    "        },\n",
    "        'run_id': 'kikinet_sep_I2_af4_oasis_1572552792',\n",
    "        'epoch': 50,\n",
    "    },\n",
    "]"
   ]
  },
  {
   "cell_type": "code",
   "execution_count": 7,
   "metadata": {},
   "outputs": [],
   "source": [
    "def unpack_model(init_function=None, run_params=None, run_id=None, epoch=300, **dummy_kwargs):\n",
    "    try:\n",
    "        model = init_function(input_size=(None, None, 1), fastmri=False, **run_params)\n",
    "    except:\n",
    "        model = init_function(input_size=(None, None, 1), **run_params)\n",
    "    chkpt_path = f'../checkpoints/{run_id}-{epoch}.hdf5'\n",
    "    model.load_weights(chkpt_path)\n",
    "    return model\n",
    "\n",
    "def metrics_for_params(val_gen=None, name=None, **net_params):\n",
    "    if val_gen is None:\n",
    "        val_gen = val_gen_mask\n",
    "    model = unpack_model(**net_params)\n",
    "    metrics = Metrics(METRIC_FUNCS)\n",
    "    pred_and_gt = [\n",
    "        reco_and_gt_net_from_val_file(*val_gen[i], model)\n",
    "        for i in tqdm_notebook(range(len(val_gen)), desc=f'Val files for {name}')\n",
    "    ]    \n",
    "    for im_recos, images in tqdm_notebook(pred_and_gt, desc=f'Stats for {name}'):\n",
    "        metrics.push(images, im_recos)\n",
    "    return metrics\n",
    "\n",
    "\n",
    "def metrics_zfilled():\n",
    "    metrics = Metrics(METRIC_FUNCS)\n",
    "    pred_and_gt = [\n",
    "        reco_and_gt_zfilled_from_val_file(*val_gen_mask[i], crop=False)\n",
    "        for i in tqdm_notebook(range(len(val_gen_mask)), desc='Val files for z-filled')\n",
    "    ]    \n",
    "    for im_recos, images in tqdm_notebook(pred_and_gt, desc='Stats for z-filled'):\n",
    "        metrics.push(images, im_recos)\n",
    "    return metrics"
   ]
  },
  {
   "cell_type": "code",
   "execution_count": 8,
   "metadata": {},
   "outputs": [
    {
     "data": {
      "application/vnd.jupyter.widget-view+json": {
       "model_id": "216302d3a61445f4b18a569daa79e78e",
       "version_major": 2,
       "version_minor": 0
      },
      "text/plain": [
       "HBox(children=(FloatProgress(value=0.0, description='Val files for unet', max=2.0, style=ProgressStyle(descrip…"
      ]
     },
     "metadata": {},
     "output_type": "display_data"
    },
    {
     "name": "stdout",
     "output_type": "stream",
     "text": [
      "\n"
     ]
    },
    {
     "data": {
      "application/vnd.jupyter.widget-view+json": {
       "model_id": "8c0d0c597a974ddf87cd26ad728ff5af",
       "version_major": 2,
       "version_minor": 0
      },
      "text/plain": [
       "HBox(children=(FloatProgress(value=0.0, description='Stats for unet', max=2.0, style=ProgressStyle(description…"
      ]
     },
     "metadata": {},
     "output_type": "display_data"
    },
    {
     "name": "stdout",
     "output_type": "stream",
     "text": [
      "\n"
     ]
    },
    {
     "data": {
      "application/vnd.jupyter.widget-view+json": {
       "model_id": "f22fca1432b44180b0ae69971c7807ac",
       "version_major": 2,
       "version_minor": 0
      },
      "text/plain": [
       "HBox(children=(FloatProgress(value=0.0, description='Val files for pdnet', max=2.0, style=ProgressStyle(descri…"
      ]
     },
     "metadata": {},
     "output_type": "display_data"
    },
    {
     "name": "stdout",
     "output_type": "stream",
     "text": [
      "\n"
     ]
    },
    {
     "data": {
      "application/vnd.jupyter.widget-view+json": {
       "model_id": "53f3b54c6af745f8bf6759abb91a0ebd",
       "version_major": 2,
       "version_minor": 0
      },
      "text/plain": [
       "HBox(children=(FloatProgress(value=0.0, description='Stats for pdnet', max=2.0, style=ProgressStyle(descriptio…"
      ]
     },
     "metadata": {},
     "output_type": "display_data"
    },
    {
     "name": "stdout",
     "output_type": "stream",
     "text": [
      "\n"
     ]
    },
    {
     "data": {
      "application/vnd.jupyter.widget-view+json": {
       "model_id": "999410b93cca48dab1aec4f2d1dea8e4",
       "version_major": 2,
       "version_minor": 0
      },
      "text/plain": [
       "HBox(children=(FloatProgress(value=0.0, description='Val files for cascadenet', max=2.0, style=ProgressStyle(d…"
      ]
     },
     "metadata": {},
     "output_type": "display_data"
    },
    {
     "name": "stdout",
     "output_type": "stream",
     "text": [
      "\n"
     ]
    },
    {
     "data": {
      "application/vnd.jupyter.widget-view+json": {
       "model_id": "e18c3d961d4b412baf0e7e69b0f3414b",
       "version_major": 2,
       "version_minor": 0
      },
      "text/plain": [
       "HBox(children=(FloatProgress(value=0.0, description='Stats for cascadenet', max=2.0, style=ProgressStyle(descr…"
      ]
     },
     "metadata": {},
     "output_type": "display_data"
    },
    {
     "name": "stdout",
     "output_type": "stream",
     "text": [
      "\n"
     ]
    },
    {
     "data": {
      "application/vnd.jupyter.widget-view+json": {
       "model_id": "97bf87b92fc34d08b537fce138bcb3e2",
       "version_major": 2,
       "version_minor": 0
      },
      "text/plain": [
       "HBox(children=(FloatProgress(value=0.0, description='Val files for kikinet-sep', max=2.0, style=ProgressStyle(…"
      ]
     },
     "metadata": {},
     "output_type": "display_data"
    },
    {
     "name": "stdout",
     "output_type": "stream",
     "text": [
      "\n"
     ]
    },
    {
     "data": {
      "application/vnd.jupyter.widget-view+json": {
       "model_id": "c9ce67fc3f4544fbb2866144d3a39ada",
       "version_major": 2,
       "version_minor": 0
      },
      "text/plain": [
       "HBox(children=(FloatProgress(value=0.0, description='Stats for kikinet-sep', max=2.0, style=ProgressStyle(desc…"
      ]
     },
     "metadata": {},
     "output_type": "display_data"
    },
    {
     "name": "stdout",
     "output_type": "stream",
     "text": [
      "\n"
     ]
    },
    {
     "data": {
      "application/vnd.jupyter.widget-view+json": {
       "model_id": "431ccbbab6c644739ad0916b85f3c1a1",
       "version_major": 2,
       "version_minor": 0
      },
      "text/plain": [
       "HBox(children=(FloatProgress(value=0.0, description='Val files for z-filled', max=2.0, style=ProgressStyle(des…"
      ]
     },
     "metadata": {},
     "output_type": "display_data"
    },
    {
     "name": "stdout",
     "output_type": "stream",
     "text": [
      "\n"
     ]
    },
    {
     "data": {
      "application/vnd.jupyter.widget-view+json": {
       "model_id": "1c7c5dea7e5b4f7e9b5cc58e4c32ef58",
       "version_major": 2,
       "version_minor": 0
      },
      "text/plain": [
       "HBox(children=(FloatProgress(value=0.0, description='Stats for z-filled', max=2.0, style=ProgressStyle(descrip…"
      ]
     },
     "metadata": {},
     "output_type": "display_data"
    },
    {
     "name": "stdout",
     "output_type": "stream",
     "text": [
      "\n",
      "CPU times: user 31.7 s, sys: 6.6 s, total: 38.3 s\n",
      "Wall time: 35.4 s\n"
     ]
    }
   ],
   "source": [
    "%%time\n",
    "metrics = []\n",
    "for net_params in all_net_params:\n",
    "    metrics.append((net_params['name'], metrics_for_params(**net_params)))\n",
    "    \n",
    "metrics.append(('zfilled', metrics_zfilled()))"
   ]
  },
  {
   "cell_type": "code",
   "execution_count": 9,
   "metadata": {},
   "outputs": [
    {
     "name": "stderr",
     "output_type": "stream",
     "text": [
      "ERROR:root:No traceback has been produced, nothing to debug.\n"
     ]
    }
   ],
   "source": [
    "%debug"
   ]
  },
  {
   "cell_type": "code",
   "execution_count": 10,
   "metadata": {},
   "outputs": [
    {
     "data": {
      "text/plain": [
       "[('unet', PSNR = 31.21 +/- 6.114 SSIM = 0.8816 +/- 0.08118),\n",
       " ('pdnet', PSNR = 33.84 +/- 7.215 SSIM = 0.9254 +/- 0.06587),\n",
       " ('cascadenet', PSNR = 33.28 +/- 3.272 SSIM = 0.9176 +/- 0.01759),\n",
       " ('kikinet-sep', PSNR = 31.33 +/- 3.639 SSIM = 0.8821 +/- 0.03188),\n",
       " ('zfilled', PSNR = 27.43 +/- 3.775 SSIM = 0.6885 +/- 0.05872)]"
      ]
     },
     "execution_count": 10,
     "metadata": {},
     "output_type": "execute_result"
    }
   ],
   "source": [
    "metrics"
   ]
  },
  {
   "cell_type": "code",
   "execution_count": 11,
   "metadata": {},
   "outputs": [],
   "source": [
    "metrics.sort(key=lambda x: x[1].metrics['PSNR'].mean())"
   ]
  },
  {
   "cell_type": "code",
   "execution_count": 12,
   "metadata": {},
   "outputs": [],
   "source": [
    "def n_model_params_for_params(reco_function=None, val_gen=None, name=None, **net_params):\n",
    "    model = unpack_model(**net_params)\n",
    "    n_params = model.count_params()\n",
    "    return n_params"
   ]
  },
  {
   "cell_type": "code",
   "execution_count": 13,
   "metadata": {},
   "outputs": [
    {
     "name": "stdout",
     "output_type": "stream",
     "text": [
      "CPU times: user 4.33 s, sys: 94.9 ms, total: 4.43 s\n",
      "Wall time: 4.12 s\n"
     ]
    }
   ],
   "source": [
    "%%time\n",
    "n_params = {}\n",
    "for net_params in all_net_params:\n",
    "    n_params[net_params['name']] =  n_model_params_for_params(**net_params)\n",
    "    \n",
    "n_params['zfilled'] =  0"
   ]
  },
  {
   "cell_type": "code",
   "execution_count": 14,
   "metadata": {},
   "outputs": [],
   "source": [
    "def runtime_for_params(val_gen=None, name=None, **net_params):\n",
    "    if val_gen is None:\n",
    "        val_gen = val_gen_mask\n",
    "    model = unpack_model(**net_params)\n",
    "    data = val_gen[0]\n",
    "    start = time.time()\n",
    "    reco_and_gt_net_from_val_file(*data, model)\n",
    "    end = time.time()\n",
    "    return end - start\n",
    "\n",
    "def runtime_zfilled():\n",
    "    data = val_gen_mask[0]\n",
    "    start = time.time()\n",
    "    reco_and_gt_zfilled_from_val_file(*data, crop=False)\n",
    "    end = time.time()\n",
    "    return end - start"
   ]
  },
  {
   "cell_type": "code",
   "execution_count": 15,
   "metadata": {},
   "outputs": [
    {
     "data": {
      "application/vnd.jupyter.widget-view+json": {
       "model_id": "1aa59b10467047938510f8398f0ce45f",
       "version_major": 2,
       "version_minor": 0
      },
      "text/plain": [
       "HBox(children=(FloatProgress(value=0.0, max=4.0), HTML(value='')))"
      ]
     },
     "metadata": {},
     "output_type": "display_data"
    },
    {
     "name": "stdout",
     "output_type": "stream",
     "text": [
      "\n",
      "CPU times: user 14.7 s, sys: 2.13 s, total: 16.8 s\n",
      "Wall time: 15.3 s\n"
     ]
    }
   ],
   "source": [
    "%%time\n",
    "runtimes = {}\n",
    "for net_params in tqdm_notebook(all_net_params):\n",
    "    runtimes[net_params['name']] =  runtime_for_params(**net_params)\n",
    "    \n",
    "runtimes['zfilled'] = runtime_zfilled()"
   ]
  },
  {
   "cell_type": "code",
   "execution_count": 16,
   "metadata": {},
   "outputs": [],
   "source": [
    "metrics_table = pd.DataFrame(\n",
    "    index=[name for name, _ in metrics], \n",
    "    columns=['PSNR-mean (std) (dB)', 'SSIM-mean (std)', '# params', 'Runtime (s)'],\n",
    ")\n",
    "for name, m in metrics:\n",
    "    metrics_table.loc[name, 'PSNR-mean (std) (dB)'] = \"{mean:.4} ({std:.4})\".format(\n",
    "        mean=m.metrics['PSNR'].mean(), \n",
    "        std=m.metrics['PSNR'].stddev(),\n",
    "    )\n",
    "    metrics_table.loc[name, 'SSIM-mean (std)'] = \"{mean:.4} ({std:.4})\".format(\n",
    "        mean=m.metrics['SSIM'].mean(), \n",
    "        std=m.metrics['SSIM'].stddev(),\n",
    "    )\n",
    "    metrics_table.loc[name, '# params'] = \"{}\".format(\n",
    "        n_params[name], \n",
    "     )\n",
    "    metrics_table.loc[name, 'Runtime (s)'] = \"{runtime:.4}\".format(\n",
    "        runtime=runtimes[name], \n",
    "    )"
   ]
  },
  {
   "cell_type": "code",
   "execution_count": 17,
   "metadata": {},
   "outputs": [
    {
     "data": {
      "text/html": [
       "<div>\n",
       "<style scoped>\n",
       "    .dataframe tbody tr th:only-of-type {\n",
       "        vertical-align: middle;\n",
       "    }\n",
       "\n",
       "    .dataframe tbody tr th {\n",
       "        vertical-align: top;\n",
       "    }\n",
       "\n",
       "    .dataframe thead th {\n",
       "        text-align: right;\n",
       "    }\n",
       "</style>\n",
       "<table border=\"1\" class=\"dataframe\">\n",
       "  <thead>\n",
       "    <tr style=\"text-align: right;\">\n",
       "      <th></th>\n",
       "      <th>PSNR-mean (std) (dB)</th>\n",
       "      <th>SSIM-mean (std)</th>\n",
       "      <th># params</th>\n",
       "      <th>Runtime (s)</th>\n",
       "    </tr>\n",
       "  </thead>\n",
       "  <tbody>\n",
       "    <tr>\n",
       "      <th>zfilled</th>\n",
       "      <td>27.43 (1.888)</td>\n",
       "      <td>0.6885 (0.02936)</td>\n",
       "      <td>0</td>\n",
       "      <td>0.113</td>\n",
       "    </tr>\n",
       "    <tr>\n",
       "      <th>unet</th>\n",
       "      <td>31.21 (3.057)</td>\n",
       "      <td>0.8816 (0.04059)</td>\n",
       "      <td>481801</td>\n",
       "      <td>0.2403</td>\n",
       "    </tr>\n",
       "    <tr>\n",
       "      <th>kikinet-sep</th>\n",
       "      <td>31.33 (1.819)</td>\n",
       "      <td>0.8821 (0.01594)</td>\n",
       "      <td>1251080</td>\n",
       "      <td>2.422</td>\n",
       "    </tr>\n",
       "    <tr>\n",
       "      <th>cascadenet</th>\n",
       "      <td>33.28 (1.636)</td>\n",
       "      <td>0.9176 (0.008793)</td>\n",
       "      <td>424570</td>\n",
       "      <td>0.9736</td>\n",
       "    </tr>\n",
       "    <tr>\n",
       "      <th>pdnet</th>\n",
       "      <td>33.84 (3.608)</td>\n",
       "      <td>0.9254 (0.03293)</td>\n",
       "      <td>318280</td>\n",
       "      <td>5.262</td>\n",
       "    </tr>\n",
       "  </tbody>\n",
       "</table>\n",
       "</div>"
      ],
      "text/plain": [
       "            PSNR-mean (std) (dB)    SSIM-mean (std) # params Runtime (s)\n",
       "zfilled            27.43 (1.888)   0.6885 (0.02936)        0       0.113\n",
       "unet               31.21 (3.057)   0.8816 (0.04059)   481801      0.2403\n",
       "kikinet-sep        31.33 (1.819)   0.8821 (0.01594)  1251080       2.422\n",
       "cascadenet         33.28 (1.636)  0.9176 (0.008793)   424570      0.9736\n",
       "pdnet              33.84 (3.608)   0.9254 (0.03293)   318280       5.262"
      ]
     },
     "execution_count": 17,
     "metadata": {},
     "output_type": "execute_result"
    }
   ],
   "source": [
    "metrics_table"
   ]
  },
  {
   "cell_type": "code",
   "execution_count": null,
   "metadata": {},
   "outputs": [],
   "source": []
  }
 ],
 "metadata": {
  "kernelspec": {
   "display_name": "Python 3",
   "language": "python",
   "name": "python3"
  },
  "language_info": {
   "codemirror_mode": {
    "name": "ipython",
    "version": 3
   },
   "file_extension": ".py",
   "mimetype": "text/x-python",
   "name": "python",
   "nbconvert_exporter": "python",
   "pygments_lexer": "ipython3",
   "version": "3.6.8"
  },
  "notify_time": "30"
 },
 "nbformat": 4,
 "nbformat_minor": 2
}

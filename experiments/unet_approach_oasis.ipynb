{
 "cells": [
  {
   "cell_type": "code",
   "execution_count": 1,
   "metadata": {},
   "outputs": [
    {
     "name": "stdout",
     "output_type": "stream",
     "text": [
      "/volatile/home/Zaccharie/workspace/fastmri-reproducible-benchmark\n"
     ]
    }
   ],
   "source": [
    "%cd .."
   ]
  },
  {
   "cell_type": "code",
   "execution_count": 2,
   "metadata": {},
   "outputs": [],
   "source": [
    "# this just to make sure we are using only on CPU\n",
    "import os\n",
    "os.environ[\"CUDA_VISIBLE_DEVICES\"]=\"-1\""
   ]
  },
  {
   "cell_type": "code",
   "execution_count": 3,
   "metadata": {},
   "outputs": [
    {
     "name": "stderr",
     "output_type": "stream",
     "text": [
      "/volatile/home/Zaccharie/workspace/fastmri-reproducible-benchmark/venv/lib/python3.6/site-packages/h5py/__init__.py:36: FutureWarning: Conversion of the second argument of issubdtype from `float` to `np.floating` is deprecated. In future, it will be treated as `np.float64 == np.dtype(float).type`.\n",
      "  from ._conv import register_converters as _register_converters\n",
      "Using TensorFlow backend.\n"
     ]
    },
    {
     "name": "stdout",
     "output_type": "stream",
     "text": [
      "\n",
      "                 .|'''|       /.\\      '||'''|,\n",
      "                 ||          // \\\\      ||   ||\n",
      "'||''|, '||  ||` `|'''|,    //...\\\\     ||...|'\n",
      " ||  ||  `|..||   .   ||   //     \\\\    ||\n",
      " ||..|'      ||   |...|' .//       \\\\. .||\n",
      " ||       ,  |'\n",
      ".||        ''\n",
      "\n",
      "Package version: 0.0.3\n",
      "\n",
      "License: CeCILL-B\n",
      "\n",
      "Authors: \n",
      "\n",
      "Antoine Grigis <antoine.grigis@cea.fr>\n",
      "Samuel Farrens <samuel.farrens@cea.fr>\n",
      "Jean-Luc Starck <jl.stark@cea.fr>\n",
      "Philippe Ciuciu <philippe.ciuciu@cea.fr>\n",
      "\n",
      "Dependencies: \n",
      "\n",
      "scipy          : >=1.3.0   - required | 1.3.0     installed\n",
      "numpy          : >=1.16.4  - required | 1.16.4    installed\n",
      "matplotlib     : >=3.0.0   - required | 3.1.0     installed\n",
      "astropy        : >=3.0.0   - required | 2.0.8     installed\n",
      "nibabel        : >=2.3.2   - required | 2.4.1     installed\n",
      "pyqtgraph      : >=0.10.0  - required | 0.10.0    installed\n",
      "progressbar2   : >=3.34.3  - required | ?         installed\n",
      "modopt         : >=1.4.0   - required | 1.3.3     installed\n",
      "scikit-learn   : >=0.19.1  - required | ?         installed\n",
      "pywt           : >=1.0.0   - required | 1.0.3     installed\n",
      "pysparse       : >=0.0.1   - required | 0.1.0     installed\n",
      "\n"
     ]
    }
   ],
   "source": [
    "%load_ext autoreload\n",
    "%autoreload 2\n",
    "%matplotlib nbagg\n",
    "import os.path as op\n",
    "import time\n",
    "\n",
    "from keras.callbacks import TensorBoard, ModelCheckpoint\n",
    "import numpy as np\n",
    "from keras_tqdm import TQDMNotebookCallback\n",
    "from tqdm import tqdm_notebook\n",
    "import tensorflow as tf\n",
    "\n",
    "from fastmri_recon.models.unet import unet\n",
    "from fastmri_recon.data.oasis_sequences import ZeroFilled2DSequence"
   ]
  },
  {
   "cell_type": "code",
   "execution_count": 4,
   "metadata": {},
   "outputs": [],
   "source": [
    "# paths\n",
    "train_path = '/media/Zaccharie/UHRes/OASIS_data/'"
   ]
  },
  {
   "cell_type": "code",
   "execution_count": 5,
   "metadata": {},
   "outputs": [],
   "source": [
    "# generators\n",
    "AF = 4\n",
    "train_gen = ZeroFilled2DSequence(\n",
    "    train_path, \n",
    "    af=AF, \n",
    "    inner_slices=32, \n",
    "    scale_factor=1e-2, \n",
    "    seed=0, \n",
    "    val_split=0.1,\n",
    ")\n",
    "val_gen = train_gen.val_sequence\n",
    "\n",
    "# train_gen.filenames = train_gen.filenames[:5]\n",
    "# val_gen.filenames = val_gen.filenames[:1]"
   ]
  },
  {
   "cell_type": "code",
   "execution_count": 6,
   "metadata": {},
   "outputs": [
    {
     "name": "stdout",
     "output_type": "stream",
     "text": [
      "unet_af4_oasis_1568899762\n"
     ]
    }
   ],
   "source": [
    "run_params = {\n",
    "    'n_layers': 4, \n",
    "    'pool': 'max', \n",
    "    \"layers_n_channels\": [16, 32, 64, 128], \n",
    "    'layers_n_non_lins': 2,\n",
    "#     'n_layers': 2,\n",
    "}\n",
    "n_epochs = 350\n",
    "run_id = f'unet_af{AF}_oasis_{int(time.time())}'\n",
    "chkpt_path = f'checkpoints/{run_id}' + '-{epoch:02d}.hdf5'\n",
    "print(run_id)"
   ]
  },
  {
   "cell_type": "code",
   "execution_count": 7,
   "metadata": {},
   "outputs": [],
   "source": [
    "chkpt_cback = ModelCheckpoint(chkpt_path, period=500)\n",
    "log_dir = op.join('logs', run_id)\n",
    "tboard_cback = TensorBoard(\n",
    "    log_dir=log_dir, \n",
    "    histogram_freq=0, \n",
    "    write_graph=True, \n",
    "    write_images=False, \n",
    ")\n",
    "# fix from https://github.com/bstriner/keras-tqdm/issues/31#issuecomment-516325065\n",
    "tqdm_cb = TQDMNotebookCallback(metric_format=\"{name}: {value:e}\")\n",
    "# tqdm_cb.on_train_batch_begin = tqdm_cb.on_batch_begin\n",
    "# tqdm_cb.on_train_batch_end = tqdm_cb.on_batch_end\n",
    "# tqdm_cb.on_test_begin = lambda x,y:None\n",
    "# tqdm_cb.on_test_end = lambda x,y:None"
   ]
  },
  {
   "cell_type": "code",
   "execution_count": 8,
   "metadata": {
    "scrolled": true
   },
   "outputs": [
    {
     "name": "stderr",
     "output_type": "stream",
     "text": [
      "WARNING: Logging before flag parsing goes to stderr.\n",
      "W0919 15:29:23.065008 139772612736768 deprecation_wrapper.py:119] From /volatile/home/Zaccharie/workspace/keras/keras/backend/tensorflow_backend.py:4070: The name tf.nn.max_pool is deprecated. Please use tf.nn.max_pool2d instead.\n",
      "\n"
     ]
    },
    {
     "name": "stdout",
     "output_type": "stream",
     "text": [
      "Model: \"model_1\"\n",
      "____________________________________________________________________________________________________\n",
      "Layer (type)                     Output Shape          Param #     Connected to                     \n",
      "====================================================================================================\n",
      "input_1 (InputLayer)             (None, None, 256, 1)  0                                            \n",
      "____________________________________________________________________________________________________\n",
      "conv2d_1 (Conv2D)                (None, None, 256, 16) 160         input_1[0][0]                    \n",
      "____________________________________________________________________________________________________\n",
      "conv2d_2 (Conv2D)                (None, None, 256, 16) 2320        conv2d_1[0][0]                   \n",
      "____________________________________________________________________________________________________\n",
      "max_pooling2d_1 (MaxPooling2D)   (None, None, 128, 16) 0           conv2d_2[0][0]                   \n",
      "____________________________________________________________________________________________________\n",
      "conv2d_3 (Conv2D)                (None, None, 128, 32) 4640        max_pooling2d_1[0][0]            \n",
      "____________________________________________________________________________________________________\n",
      "conv2d_4 (Conv2D)                (None, None, 128, 32) 9248        conv2d_3[0][0]                   \n",
      "____________________________________________________________________________________________________\n",
      "max_pooling2d_2 (MaxPooling2D)   (None, None, 64, 32)  0           conv2d_4[0][0]                   \n",
      "____________________________________________________________________________________________________\n",
      "conv2d_5 (Conv2D)                (None, None, 64, 64)  18496       max_pooling2d_2[0][0]            \n",
      "____________________________________________________________________________________________________\n",
      "conv2d_6 (Conv2D)                (None, None, 64, 64)  36928       conv2d_5[0][0]                   \n",
      "____________________________________________________________________________________________________\n",
      "max_pooling2d_3 (MaxPooling2D)   (None, None, 32, 64)  0           conv2d_6[0][0]                   \n",
      "____________________________________________________________________________________________________\n",
      "conv2d_7 (Conv2D)                (None, None, 32, 128) 73856       max_pooling2d_3[0][0]            \n",
      "____________________________________________________________________________________________________\n",
      "conv2d_8 (Conv2D)                (None, None, 32, 128) 147584      conv2d_7[0][0]                   \n",
      "____________________________________________________________________________________________________\n",
      "up_sampling2d_1 (UpSampling2D)   (None, None, 64, 128) 0           conv2d_8[0][0]                   \n",
      "____________________________________________________________________________________________________\n",
      "conv2d_9 (Conv2D)                (None, None, 64, 64)  32832       up_sampling2d_1[0][0]            \n",
      "____________________________________________________________________________________________________\n",
      "concatenate_1 (Concatenate)      (None, None, 64, 128) 0           conv2d_6[0][0]                   \n",
      "                                                                   conv2d_9[0][0]                   \n",
      "____________________________________________________________________________________________________\n",
      "conv2d_10 (Conv2D)               (None, None, 64, 64)  73792       concatenate_1[0][0]              \n",
      "____________________________________________________________________________________________________\n",
      "conv2d_11 (Conv2D)               (None, None, 64, 64)  36928       conv2d_10[0][0]                  \n",
      "____________________________________________________________________________________________________\n",
      "up_sampling2d_2 (UpSampling2D)   (None, None, 128, 64) 0           conv2d_11[0][0]                  \n",
      "____________________________________________________________________________________________________\n",
      "conv2d_12 (Conv2D)               (None, None, 128, 32) 8224        up_sampling2d_2[0][0]            \n",
      "____________________________________________________________________________________________________\n",
      "concatenate_2 (Concatenate)      (None, None, 128, 64) 0           conv2d_4[0][0]                   \n",
      "                                                                   conv2d_12[0][0]                  \n",
      "____________________________________________________________________________________________________\n",
      "conv2d_13 (Conv2D)               (None, None, 128, 32) 18464       concatenate_2[0][0]              \n",
      "____________________________________________________________________________________________________\n",
      "conv2d_14 (Conv2D)               (None, None, 128, 32) 9248        conv2d_13[0][0]                  \n",
      "____________________________________________________________________________________________________\n",
      "up_sampling2d_3 (UpSampling2D)   (None, None, 256, 32) 0           conv2d_14[0][0]                  \n",
      "____________________________________________________________________________________________________\n",
      "conv2d_15 (Conv2D)               (None, None, 256, 16) 2064        up_sampling2d_3[0][0]            \n",
      "____________________________________________________________________________________________________\n",
      "concatenate_3 (Concatenate)      (None, None, 256, 32) 0           conv2d_2[0][0]                   \n",
      "                                                                   conv2d_15[0][0]                  \n",
      "____________________________________________________________________________________________________\n",
      "conv2d_16 (Conv2D)               (None, None, 256, 16) 4624        concatenate_3[0][0]              \n",
      "____________________________________________________________________________________________________\n",
      "conv2d_17 (Conv2D)               (None, None, 256, 16) 2320        conv2d_16[0][0]                  \n",
      "____________________________________________________________________________________________________\n",
      "conv2d_18 (Conv2D)               (None, None, 256, 4)  68          conv2d_17[0][0]                  \n",
      "____________________________________________________________________________________________________\n",
      "conv2d_19 (Conv2D)               (None, None, 256, 1)  5           conv2d_18[0][0]                  \n",
      "====================================================================================================\n",
      "Total params: 481,801\n",
      "Trainable params: 481,801\n",
      "Non-trainable params: 0\n",
      "____________________________________________________________________________________________________\n",
      "None\n"
     ]
    }
   ],
   "source": [
    "model = unet(input_size=(None, 256, 1), lr=1e-3, **run_params)\n",
    "print(model.summary(line_length=100))"
   ]
  },
  {
   "cell_type": "code",
   "execution_count": 9,
   "metadata": {
    "scrolled": true
   },
   "outputs": [],
   "source": [
    "# %%time\n",
    "# model.fit_generator(\n",
    "#     train_gen, \n",
    "#     steps_per_epoch=10, \n",
    "#     epochs=n_epochs,\n",
    "#     validation_data=val_gen,\n",
    "#     validation_steps=1,\n",
    "#     verbose=0,\n",
    "#     callbacks=[tqdm_cb, tboard_cback, chkpt_cback,],\n",
    "# #     max_queue_size=100,\n",
    "#     use_multiprocessing=True,\n",
    "#     workers=35,\n",
    "#     shuffle=False,\n",
    "# )"
   ]
  },
  {
   "cell_type": "code",
   "execution_count": 10,
   "metadata": {
    "code_folding": [],
    "scrolled": false
   },
   "outputs": [
    {
     "name": "stderr",
     "output_type": "stream",
     "text": [
      "/volatile/home/Zaccharie/workspace/fastmri-reproducible-benchmark/fastmri_recon/data/oasis_sequences.py:139: ComplexWarning: Casting complex values to real discards the imaginary part\n",
      "  images_scaled = images_scaled.astype(np.float32)\n",
      "W0919 15:29:27.749298 139772612736768 deprecation_wrapper.py:119] From /volatile/home/Zaccharie/workspace/keras/keras/backend/tensorflow_backend.py:422: The name tf.global_variables is deprecated. Please use tf.compat.v1.global_variables instead.\n",
      "\n"
     ]
    },
    {
     "name": "stdout",
     "output_type": "stream",
     "text": [
      "Epoch 1/500\n",
      " - 10s - loss: 1.0646 - mean_squared_error: 2.7226 - keras_psnr: 13.6051 - keras_ssim: 0.1804\n",
      "Epoch 2/500\n",
      " - 9s - loss: 1.0218 - mean_squared_error: 1.9846 - keras_psnr: 14.9789 - keras_ssim: 0.2464\n",
      "Epoch 3/500\n",
      " - 8s - loss: 0.7610 - mean_squared_error: 1.2959 - keras_psnr: 16.8327 - keras_ssim: 0.2328\n",
      "Epoch 4/500\n",
      " - 8s - loss: 0.7710 - mean_squared_error: 1.1640 - keras_psnr: 17.2969 - keras_ssim: 0.3536\n",
      "Epoch 5/500\n",
      " - 8s - loss: 0.4182 - mean_squared_error: 0.4109 - keras_psnr: 21.8188 - keras_ssim: 0.3795\n",
      "Epoch 6/500\n",
      " - 8s - loss: 0.3704 - mean_squared_error: 0.3362 - keras_psnr: 22.6921 - keras_ssim: 0.4423\n",
      "Epoch 7/500\n",
      " - 8s - loss: 0.3483 - mean_squared_error: 0.3000 - keras_psnr: 23.1869 - keras_ssim: 0.5035\n",
      "Epoch 8/500\n",
      " - 8s - loss: 0.3184 - mean_squared_error: 0.2356 - keras_psnr: 24.2340 - keras_ssim: 0.5750\n",
      "Epoch 9/500\n",
      " - 8s - loss: 0.3222 - mean_squared_error: 0.2258 - keras_psnr: 24.4178 - keras_ssim: 0.5528\n",
      "Epoch 10/500\n",
      " - 8s - loss: 0.3315 - mean_squared_error: 0.2777 - keras_psnr: 23.5213 - keras_ssim: 0.6209\n",
      "Epoch 11/500\n",
      " - 8s - loss: 0.2839 - mean_squared_error: 0.2154 - keras_psnr: 24.6218 - keras_ssim: 0.6233\n",
      "Epoch 12/500\n",
      " - 8s - loss: 0.3071 - mean_squared_error: 0.2251 - keras_psnr: 24.4323 - keras_ssim: 0.5985\n",
      "Epoch 13/500\n",
      " - 8s - loss: 0.2888 - mean_squared_error: 0.2013 - keras_psnr: 24.9169 - keras_ssim: 0.6039\n",
      "Epoch 14/500\n",
      " - 8s - loss: 0.2773 - mean_squared_error: 0.1965 - keras_psnr: 25.0219 - keras_ssim: 0.6050\n",
      "Epoch 15/500\n",
      " - 8s - loss: 0.2582 - mean_squared_error: 0.1780 - keras_psnr: 25.4531 - keras_ssim: 0.6258\n",
      "Epoch 16/500\n",
      " - 8s - loss: 0.2574 - mean_squared_error: 0.1756 - keras_psnr: 25.5104 - keras_ssim: 0.6334\n",
      "Epoch 17/500\n",
      " - 9s - loss: 0.2732 - mean_squared_error: 0.1977 - keras_psnr: 24.9954 - keras_ssim: 0.6206\n",
      "Epoch 18/500\n",
      " - 8s - loss: 0.2590 - mean_squared_error: 0.1776 - keras_psnr: 25.4617 - keras_ssim: 0.6261\n",
      "Epoch 19/500\n",
      " - 8s - loss: 0.2617 - mean_squared_error: 0.1736 - keras_psnr: 25.5604 - keras_ssim: 0.6332\n",
      "Epoch 20/500\n",
      " - 8s - loss: 0.2578 - mean_squared_error: 0.1674 - keras_psnr: 25.7174 - keras_ssim: 0.6358\n",
      "Epoch 21/500\n",
      " - 8s - loss: 0.2389 - mean_squared_error: 0.1487 - keras_psnr: 26.2337 - keras_ssim: 0.6360\n",
      "Epoch 22/500\n",
      " - 8s - loss: 0.2733 - mean_squared_error: 0.1958 - keras_psnr: 25.0369 - keras_ssim: 0.6239\n",
      "Epoch 23/500\n",
      " - 8s - loss: 0.2943 - mean_squared_error: 0.2261 - keras_psnr: 24.4129 - keras_ssim: 0.6256\n",
      "Epoch 24/500\n",
      " - 8s - loss: 0.2633 - mean_squared_error: 0.1851 - keras_psnr: 25.2826 - keras_ssim: 0.6497\n",
      "Epoch 25/500\n",
      " - 8s - loss: 0.2333 - mean_squared_error: 0.1455 - keras_psnr: 26.3284 - keras_ssim: 0.6624\n",
      "Epoch 26/500\n",
      " - 8s - loss: 0.2434 - mean_squared_error: 0.1508 - keras_psnr: 26.1733 - keras_ssim: 0.6612\n",
      "Epoch 27/500\n",
      " - 8s - loss: 0.2498 - mean_squared_error: 0.1570 - keras_psnr: 25.9985 - keras_ssim: 0.6589\n",
      "Epoch 28/500\n",
      " - 8s - loss: 0.2367 - mean_squared_error: 0.1447 - keras_psnr: 26.3522 - keras_ssim: 0.6595\n",
      "Epoch 29/500\n",
      " - 8s - loss: 0.2393 - mean_squared_error: 0.1507 - keras_psnr: 26.1741 - keras_ssim: 0.6614\n",
      "Epoch 30/500\n",
      " - 8s - loss: 0.2388 - mean_squared_error: 0.1516 - keras_psnr: 26.1504 - keras_ssim: 0.6660\n",
      "Epoch 31/500\n",
      " - 8s - loss: 0.2282 - mean_squared_error: 0.1400 - keras_psnr: 26.4962 - keras_ssim: 0.6748\n",
      "Epoch 32/500\n",
      " - 8s - loss: 0.2324 - mean_squared_error: 0.1413 - keras_psnr: 26.4543 - keras_ssim: 0.6840\n",
      "Epoch 33/500\n",
      " - 8s - loss: 0.2281 - mean_squared_error: 0.1378 - keras_psnr: 26.5658 - keras_ssim: 0.6855\n",
      "Epoch 34/500\n",
      " - 8s - loss: 0.2605 - mean_squared_error: 0.1816 - keras_psnr: 25.3638 - keras_ssim: 0.6755\n",
      "Epoch 35/500\n",
      " - 8s - loss: 0.2517 - mean_squared_error: 0.1708 - keras_psnr: 25.6310 - keras_ssim: 0.6844\n",
      "Epoch 36/500\n",
      " - 8s - loss: 0.2231 - mean_squared_error: 0.1356 - keras_psnr: 26.6353 - keras_ssim: 0.6953\n",
      "Epoch 37/500\n",
      " - 8s - loss: 0.2411 - mean_squared_error: 0.1503 - keras_psnr: 26.1871 - keras_ssim: 0.6951\n",
      "Epoch 38/500\n",
      " - 8s - loss: 0.2553 - mean_squared_error: 0.1660 - keras_psnr: 25.7551 - keras_ssim: 0.6914\n",
      "Epoch 39/500\n",
      " - 8s - loss: 0.2433 - mean_squared_error: 0.1524 - keras_psnr: 26.1282 - keras_ssim: 0.6923\n",
      "Epoch 40/500\n",
      " - 8s - loss: 0.2223 - mean_squared_error: 0.1318 - keras_psnr: 26.7567 - keras_ssim: 0.6952\n",
      "Epoch 41/500\n",
      " - 8s - loss: 0.2248 - mean_squared_error: 0.1386 - keras_psnr: 26.5392 - keras_ssim: 0.6953\n",
      "Epoch 42/500\n",
      " - 8s - loss: 0.2351 - mean_squared_error: 0.1513 - keras_psnr: 26.1585 - keras_ssim: 0.6952\n",
      "Epoch 43/500\n",
      " - 8s - loss: 0.2318 - mean_squared_error: 0.1479 - keras_psnr: 26.2559 - keras_ssim: 0.6985\n",
      "Epoch 44/500\n"
     ]
    },
    {
     "ename": "KeyboardInterrupt",
     "evalue": "",
     "output_type": "error",
     "traceback": [
      "\u001b[0;31m---------------------------------------------------------------------------\u001b[0m",
      "\u001b[0;31mKeyboardInterrupt\u001b[0m                         Traceback (most recent call last)",
      "\u001b[0;32m<timed exec>\u001b[0m in \u001b[0;36m<module>\u001b[0;34m\u001b[0m\n",
      "\u001b[0;32m~/workspace/keras/keras/engine/training.py\u001b[0m in \u001b[0;36mfit\u001b[0;34m(self, x, y, batch_size, epochs, verbose, callbacks, validation_split, validation_data, shuffle, class_weight, sample_weight, initial_epoch, steps_per_epoch, validation_steps, validation_freq, max_queue_size, workers, use_multiprocessing, **kwargs)\u001b[0m\n\u001b[1;32m   1237\u001b[0m                                         \u001b[0msteps_per_epoch\u001b[0m\u001b[0;34m=\u001b[0m\u001b[0msteps_per_epoch\u001b[0m\u001b[0;34m,\u001b[0m\u001b[0;34m\u001b[0m\u001b[0;34m\u001b[0m\u001b[0m\n\u001b[1;32m   1238\u001b[0m                                         \u001b[0mvalidation_steps\u001b[0m\u001b[0;34m=\u001b[0m\u001b[0mvalidation_steps\u001b[0m\u001b[0;34m,\u001b[0m\u001b[0;34m\u001b[0m\u001b[0;34m\u001b[0m\u001b[0m\n\u001b[0;32m-> 1239\u001b[0;31m                                         validation_freq=validation_freq)\n\u001b[0m\u001b[1;32m   1240\u001b[0m \u001b[0;34m\u001b[0m\u001b[0m\n\u001b[1;32m   1241\u001b[0m     def evaluate(self,\n",
      "\u001b[0;32m~/workspace/keras/keras/engine/training_arrays.py\u001b[0m in \u001b[0;36mfit_loop\u001b[0;34m(model, fit_function, fit_inputs, out_labels, batch_size, epochs, verbose, callbacks, val_function, val_inputs, shuffle, initial_epoch, steps_per_epoch, validation_steps, validation_freq)\u001b[0m\n\u001b[1;32m    194\u001b[0m                     \u001b[0mins_batch\u001b[0m\u001b[0;34m[\u001b[0m\u001b[0mi\u001b[0m\u001b[0;34m]\u001b[0m \u001b[0;34m=\u001b[0m \u001b[0mins_batch\u001b[0m\u001b[0;34m[\u001b[0m\u001b[0mi\u001b[0m\u001b[0;34m]\u001b[0m\u001b[0;34m.\u001b[0m\u001b[0mtoarray\u001b[0m\u001b[0;34m(\u001b[0m\u001b[0;34m)\u001b[0m\u001b[0;34m\u001b[0m\u001b[0;34m\u001b[0m\u001b[0m\n\u001b[1;32m    195\u001b[0m \u001b[0;34m\u001b[0m\u001b[0m\n\u001b[0;32m--> 196\u001b[0;31m                 \u001b[0mouts\u001b[0m \u001b[0;34m=\u001b[0m \u001b[0mfit_function\u001b[0m\u001b[0;34m(\u001b[0m\u001b[0mins_batch\u001b[0m\u001b[0;34m)\u001b[0m\u001b[0;34m\u001b[0m\u001b[0;34m\u001b[0m\u001b[0m\n\u001b[0m\u001b[1;32m    197\u001b[0m                 \u001b[0mouts\u001b[0m \u001b[0;34m=\u001b[0m \u001b[0mto_list\u001b[0m\u001b[0;34m(\u001b[0m\u001b[0mouts\u001b[0m\u001b[0;34m)\u001b[0m\u001b[0;34m\u001b[0m\u001b[0;34m\u001b[0m\u001b[0m\n\u001b[1;32m    198\u001b[0m                 \u001b[0;32mfor\u001b[0m \u001b[0ml\u001b[0m\u001b[0;34m,\u001b[0m \u001b[0mo\u001b[0m \u001b[0;32min\u001b[0m \u001b[0mzip\u001b[0m\u001b[0;34m(\u001b[0m\u001b[0mout_labels\u001b[0m\u001b[0;34m,\u001b[0m \u001b[0mouts\u001b[0m\u001b[0;34m)\u001b[0m\u001b[0;34m:\u001b[0m\u001b[0;34m\u001b[0m\u001b[0;34m\u001b[0m\u001b[0m\n",
      "\u001b[0;32m~/workspace/fastmri-reproducible-benchmark/venv/lib/python3.6/site-packages/tensorflow/python/keras/backend.py\u001b[0m in \u001b[0;36m__call__\u001b[0;34m(self, inputs)\u001b[0m\n\u001b[1;32m   3290\u001b[0m \u001b[0;34m\u001b[0m\u001b[0m\n\u001b[1;32m   3291\u001b[0m     fetched = self._callable_fn(*array_vals,\n\u001b[0;32m-> 3292\u001b[0;31m                                 run_metadata=self.run_metadata)\n\u001b[0m\u001b[1;32m   3293\u001b[0m     \u001b[0mself\u001b[0m\u001b[0;34m.\u001b[0m\u001b[0m_call_fetch_callbacks\u001b[0m\u001b[0;34m(\u001b[0m\u001b[0mfetched\u001b[0m\u001b[0;34m[\u001b[0m\u001b[0;34m-\u001b[0m\u001b[0mlen\u001b[0m\u001b[0;34m(\u001b[0m\u001b[0mself\u001b[0m\u001b[0;34m.\u001b[0m\u001b[0m_fetches\u001b[0m\u001b[0;34m)\u001b[0m\u001b[0;34m:\u001b[0m\u001b[0;34m]\u001b[0m\u001b[0;34m)\u001b[0m\u001b[0;34m\u001b[0m\u001b[0;34m\u001b[0m\u001b[0m\n\u001b[1;32m   3294\u001b[0m     output_structure = nest.pack_sequence_as(\n",
      "\u001b[0;32m~/workspace/fastmri-reproducible-benchmark/venv/lib/python3.6/site-packages/tensorflow/python/client/session.py\u001b[0m in \u001b[0;36m__call__\u001b[0;34m(self, *args, **kwargs)\u001b[0m\n\u001b[1;32m   1456\u001b[0m         ret = tf_session.TF_SessionRunCallable(self._session._session,\n\u001b[1;32m   1457\u001b[0m                                                \u001b[0mself\u001b[0m\u001b[0;34m.\u001b[0m\u001b[0m_handle\u001b[0m\u001b[0;34m,\u001b[0m \u001b[0margs\u001b[0m\u001b[0;34m,\u001b[0m\u001b[0;34m\u001b[0m\u001b[0;34m\u001b[0m\u001b[0m\n\u001b[0;32m-> 1458\u001b[0;31m                                                run_metadata_ptr)\n\u001b[0m\u001b[1;32m   1459\u001b[0m         \u001b[0;32mif\u001b[0m \u001b[0mrun_metadata\u001b[0m\u001b[0;34m:\u001b[0m\u001b[0;34m\u001b[0m\u001b[0;34m\u001b[0m\u001b[0m\n\u001b[1;32m   1460\u001b[0m           \u001b[0mproto_data\u001b[0m \u001b[0;34m=\u001b[0m \u001b[0mtf_session\u001b[0m\u001b[0;34m.\u001b[0m\u001b[0mTF_GetBuffer\u001b[0m\u001b[0;34m(\u001b[0m\u001b[0mrun_metadata_ptr\u001b[0m\u001b[0;34m)\u001b[0m\u001b[0;34m\u001b[0m\u001b[0;34m\u001b[0m\u001b[0m\n",
      "\u001b[0;31mKeyboardInterrupt\u001b[0m: "
     ]
    }
   ],
   "source": [
    "%%time\n",
    "# overfitting trials\n",
    "data = train_gen[0]\n",
    "val_data = val_gen[1]\n",
    "model.fit(\n",
    "    x=data[0], \n",
    "    y=data[1], \n",
    "#     validation_data=val_data, \n",
    "    batch_size=data[0].shape[0], \n",
    "#     callbacks=[tqdm_cb, tboard_cback,],\n",
    "    epochs=500, \n",
    "    verbose=2, \n",
    "    shuffle=False,\n",
    ")"
   ]
  },
  {
   "cell_type": "code",
   "execution_count": null,
   "metadata": {},
   "outputs": [],
   "source": []
  }
 ],
 "metadata": {
  "kernelspec": {
   "display_name": "Python 3",
   "language": "python",
   "name": "python3"
  },
  "language_info": {
   "codemirror_mode": {
    "name": "ipython",
    "version": 3
   },
   "file_extension": ".py",
   "mimetype": "text/x-python",
   "name": "python",
   "nbconvert_exporter": "python",
   "pygments_lexer": "ipython3",
   "version": "3.6.8"
  },
  "notify_time": "30"
 },
 "nbformat": 4,
 "nbformat_minor": 2
}

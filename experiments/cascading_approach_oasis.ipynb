{
 "cells": [
  {
   "cell_type": "code",
   "execution_count": 1,
   "metadata": {},
   "outputs": [
    {
     "name": "stdout",
     "output_type": "stream",
     "text": [
      "/volatile/home/Zaccharie/workspace/fastmri-reproducible-benchmark\n"
     ]
    }
   ],
   "source": [
    "%cd .."
   ]
  },
  {
   "cell_type": "code",
   "execution_count": 2,
   "metadata": {},
   "outputs": [],
   "source": [
    "# this just to make sure we are using only on CPU\n",
    "import os\n",
    "os.environ[\"CUDA_VISIBLE_DEVICES\"]=\"-1\""
   ]
  },
  {
   "cell_type": "code",
   "execution_count": 3,
   "metadata": {},
   "outputs": [
    {
     "name": "stderr",
     "output_type": "stream",
     "text": [
      "/volatile/home/Zaccharie/workspace/fastmri-reproducible-benchmark/venv/lib/python3.6/site-packages/h5py/__init__.py:36: FutureWarning: Conversion of the second argument of issubdtype from `float` to `np.floating` is deprecated. In future, it will be treated as `np.float64 == np.dtype(float).type`.\n",
      "  from ._conv import register_converters as _register_converters\n",
      "Using TensorFlow backend.\n"
     ]
    }
   ],
   "source": [
    "%load_ext autoreload\n",
    "%autoreload 2\n",
    "%matplotlib nbagg\n",
    "\n",
    "import os.path as op\n",
    "import time\n",
    "\n",
    "\n",
    "from keras.callbacks import TensorBoard, ModelCheckpoint\n",
    "from keras_tqdm import TQDMNotebookCallback\n",
    "import numpy as np\n",
    "import tensorflow as tf\n",
    "\n",
    "from fastmri_recon.models.cascading import cascade_net\n",
    "from fastmri_recon.data.oasis_sequences import Masked2DSequence"
   ]
  },
  {
   "cell_type": "code",
   "execution_count": 4,
   "metadata": {},
   "outputs": [],
   "source": [
    "# paths\n",
    "train_path = '/media/Zaccharie/UHRes/OASIS_data/'"
   ]
  },
  {
   "cell_type": "code",
   "execution_count": 5,
   "metadata": {},
   "outputs": [],
   "source": [
    "# generators\n",
    "AF = 4\n",
    "train_gen = Masked2DSequence(\n",
    "    train_path, \n",
    "    af=AF, \n",
    "    inner_slices=32, \n",
    "    scale_factor=1e-2, \n",
    "    seed=0, \n",
    "    val_split=0.1,\n",
    ")\n",
    "val_gen = train_gen.val_sequence\n",
    "\n",
    "train_gen.filenames = train_gen.filenames[:5]\n",
    "val_gen.filenames = val_gen.filenames[:1]"
   ]
  },
  {
   "cell_type": "code",
   "execution_count": 6,
   "metadata": {},
   "outputs": [
    {
     "name": "stdout",
     "output_type": "stream",
     "text": [
      "cascadenet_af4_oasis_1568894522\n"
     ]
    }
   ],
   "source": [
    "run_params = {\n",
    "    'n_cascade': 2, \n",
    "    'n_convs': 2, \n",
    "    'n_filters': 16,\n",
    "    'noiseless': True,\n",
    "}\n",
    "\n",
    "n_epochs = 50\n",
    "run_id = f'cascadenet_af{AF}_oasis_{int(time.time())}'\n",
    "chkpt_path = f'checkpoints/{run_id}' + '-{epoch:02d}.hdf5'\n",
    "print(run_id)"
   ]
  },
  {
   "cell_type": "code",
   "execution_count": 7,
   "metadata": {},
   "outputs": [],
   "source": [
    "chkpt_cback = ModelCheckpoint(chkpt_path, period=500, save_weights_only=True)\n",
    "log_dir = op.join('logs', run_id)\n",
    "tboard_cback = TensorBoard(\n",
    "    log_dir=log_dir, \n",
    "    histogram_freq=0, \n",
    "    write_graph=True, \n",
    "    write_images=False, \n",
    ")\n",
    "tqdm_cb = TQDMNotebookCallback(metric_format=\"{name}: {value:e}\")"
   ]
  },
  {
   "cell_type": "code",
   "execution_count": 8,
   "metadata": {
    "scrolled": true
   },
   "outputs": [
    {
     "name": "stderr",
     "output_type": "stream",
     "text": [
      "WARNING: Logging before flag parsing goes to stderr.\n",
      "W0919 14:02:03.115803 140371369891584 deprecation.py:323] From /volatile/home/Zaccharie/workspace/fastmri-reproducible-benchmark/fastmri_recon/helpers/nn_mri.py:74: to_float (from tensorflow.python.ops.math_ops) is deprecated and will be removed in a future version.\n",
      "Instructions for updating:\n",
      "Use `tf.cast` instead.\n"
     ]
    },
    {
     "name": "stdout",
     "output_type": "stream",
     "text": [
      "Model: \"model_1\"\n",
      "____________________________________________________________________________________________________\n",
      "Layer (type)                     Output Shape          Param #     Connected to                     \n",
      "====================================================================================================\n",
      "kspace_input (InputLayer)        (None, None, 256, 1)  0                                            \n",
      "____________________________________________________________________________________________________\n",
      "ifft_simple (Lambda)             (None, None, 256, 1)  0           kspace_input[0][0]               \n",
      "____________________________________________________________________________________________________\n",
      "lambda_1 (Lambda)                (None, None, 256, 1)  0           ifft_simple[0][0]                \n",
      "____________________________________________________________________________________________________\n",
      "lambda_2 (Lambda)                (None, None, 256, 1)  0           ifft_simple[0][0]                \n",
      "____________________________________________________________________________________________________\n",
      "concatenate_1 (Concatenate)      (None, None, 256, 2)  0           lambda_1[0][0]                   \n",
      "                                                                   lambda_2[0][0]                   \n",
      "____________________________________________________________________________________________________\n",
      "conv2d_1 (Conv2D)                (None, None, 256, 16) 304         concatenate_1[0][0]              \n",
      "____________________________________________________________________________________________________\n",
      "conv2d_2 (Conv2D)                (None, None, 256, 16) 2320        conv2d_1[0][0]                   \n",
      "____________________________________________________________________________________________________\n",
      "conv2d_3 (Conv2D)                (None, None, 256, 2)  290         conv2d_2[0][0]                   \n",
      "____________________________________________________________________________________________________\n",
      "lambda_3 (Lambda)                (None, None, 256, 1)  0           conv2d_3[0][0]                   \n",
      "____________________________________________________________________________________________________\n",
      "add_1 (Add)                      (None, None, 256, 1)  0           ifft_simple[0][0]                \n",
      "                                                                   lambda_3[0][0]                   \n",
      "____________________________________________________________________________________________________\n",
      "fft_simple_1 (Lambda)            (None, None, 256, 1)  0           add_1[0][0]                      \n",
      "____________________________________________________________________________________________________\n",
      "mask_input (InputLayer)          (None, None, 256)     0                                            \n",
      "____________________________________________________________________________________________________\n",
      "lambda_4 (Lambda)                (None, None, 256, 1)  0           fft_simple_1[0][0]               \n",
      "                                                                   kspace_input[0][0]               \n",
      "                                                                   mask_input[0][0]                 \n",
      "____________________________________________________________________________________________________\n",
      "ifft_simple_1 (Lambda)           (None, None, 256, 1)  0           lambda_4[0][0]                   \n",
      "____________________________________________________________________________________________________\n",
      "lambda_5 (Lambda)                (None, None, 256, 1)  0           ifft_simple_1[0][0]              \n",
      "____________________________________________________________________________________________________\n",
      "lambda_6 (Lambda)                (None, None, 256, 1)  0           ifft_simple_1[0][0]              \n",
      "____________________________________________________________________________________________________\n",
      "concatenate_2 (Concatenate)      (None, None, 256, 2)  0           lambda_5[0][0]                   \n",
      "                                                                   lambda_6[0][0]                   \n",
      "____________________________________________________________________________________________________\n",
      "conv2d_4 (Conv2D)                (None, None, 256, 16) 304         concatenate_2[0][0]              \n",
      "____________________________________________________________________________________________________\n",
      "conv2d_5 (Conv2D)                (None, None, 256, 16) 2320        conv2d_4[0][0]                   \n",
      "____________________________________________________________________________________________________\n",
      "conv2d_6 (Conv2D)                (None, None, 256, 2)  290         conv2d_5[0][0]                   \n",
      "____________________________________________________________________________________________________\n",
      "lambda_7 (Lambda)                (None, None, 256, 1)  0           conv2d_6[0][0]                   \n",
      "____________________________________________________________________________________________________\n",
      "add_2 (Add)                      (None, None, 256, 1)  0           ifft_simple_1[0][0]              \n",
      "                                                                   lambda_7[0][0]                   \n",
      "____________________________________________________________________________________________________\n",
      "fft_simple_2 (Lambda)            (None, None, 256, 1)  0           add_2[0][0]                      \n",
      "____________________________________________________________________________________________________\n",
      "lambda_8 (Lambda)                (None, None, 256, 1)  0           fft_simple_2[0][0]               \n",
      "                                                                   kspace_input[0][0]               \n",
      "                                                                   mask_input[0][0]                 \n",
      "____________________________________________________________________________________________________\n",
      "ifft_simple_2 (Lambda)           (None, None, 256, 1)  0           lambda_8[0][0]                   \n",
      "____________________________________________________________________________________________________\n",
      "lambda_9 (Lambda)                (None, None, 256, 1)  0           ifft_simple_2[0][0]              \n",
      "====================================================================================================\n",
      "Total params: 5,828\n",
      "Trainable params: 5,828\n",
      "Non-trainable params: 0\n",
      "____________________________________________________________________________________________________\n",
      "None\n"
     ]
    }
   ],
   "source": [
    "model = cascade_net(input_size=(None, 256, 1), lr=1e-3, fastmri=False, **run_params)\n",
    "print(model.summary(line_length=100))"
   ]
  },
  {
   "cell_type": "code",
   "execution_count": null,
   "metadata": {
    "scrolled": true
   },
   "outputs": [
    {
     "name": "stderr",
     "output_type": "stream",
     "text": [
      "W0919 14:02:04.887423 140371369891584 deprecation_wrapper.py:119] From /volatile/home/Zaccharie/workspace/keras/keras/backend/tensorflow_backend.py:422: The name tf.global_variables is deprecated. Please use tf.compat.v1.global_variables instead.\n",
      "\n",
      "W0919 14:02:04.902261 140371369891584 deprecation_wrapper.py:119] From /volatile/home/Zaccharie/workspace/keras/keras/callbacks/tensorboard_v1.py:200: The name tf.summary.merge_all is deprecated. Please use tf.compat.v1.summary.merge_all instead.\n",
      "\n",
      "W0919 14:02:04.904093 140371369891584 deprecation_wrapper.py:119] From /volatile/home/Zaccharie/workspace/keras/keras/callbacks/tensorboard_v1.py:203: The name tf.summary.FileWriter is deprecated. Please use tf.compat.v1.summary.FileWriter instead.\n",
      "\n"
     ]
    },
    {
     "data": {
      "application/vnd.jupyter.widget-view+json": {
       "model_id": "092635c14a29422a8ead4aa4f71e1b56",
       "version_major": 2,
       "version_minor": 0
      },
      "text/plain": [
       "HBox(children=(IntProgress(value=0, description='Training', max=50, style=ProgressStyle(description_width='ini…"
      ]
     },
     "metadata": {},
     "output_type": "display_data"
    },
    {
     "data": {
      "application/vnd.jupyter.widget-view+json": {
       "model_id": "",
       "version_major": 2,
       "version_minor": 0
      },
      "text/plain": [
       "HBox(children=(IntProgress(value=0, description='Epoch 0', max=5, style=ProgressStyle(description_width='initi…"
      ]
     },
     "metadata": {},
     "output_type": "display_data"
    },
    {
     "name": "stderr",
     "output_type": "stream",
     "text": [
      "/volatile/home/Zaccharie/workspace/fastmri-reproducible-benchmark/fastmri_recon/data/oasis_sequences.py:103: ComplexWarning: Casting complex values to real discards the imaginary part\n",
      "  images_scaled = images_scaled.astype(np.float32)\n",
      "/volatile/home/Zaccharie/workspace/fastmri-reproducible-benchmark/fastmri_recon/data/oasis_sequences.py:103: ComplexWarning: Casting complex values to real discards the imaginary part\n",
      "  images_scaled = images_scaled.astype(np.float32)\n",
      "/volatile/home/Zaccharie/workspace/fastmri-reproducible-benchmark/fastmri_recon/data/oasis_sequences.py:103: ComplexWarning: Casting complex values to real discards the imaginary part\n",
      "  images_scaled = images_scaled.astype(np.float32)\n",
      "/volatile/home/Zaccharie/workspace/fastmri-reproducible-benchmark/fastmri_recon/data/oasis_sequences.py:103: ComplexWarning: Casting complex values to real discards the imaginary part\n",
      "  images_scaled = images_scaled.astype(np.float32)\n",
      "/volatile/home/Zaccharie/workspace/fastmri-reproducible-benchmark/fastmri_recon/data/oasis_sequences.py:103: ComplexWarning: Casting complex values to real discards the imaginary part\n",
      "  images_scaled = images_scaled.astype(np.float32)\n",
      "/volatile/home/Zaccharie/workspace/fastmri-reproducible-benchmark/fastmri_recon/data/oasis_sequences.py:103: ComplexWarning: Casting complex values to real discards the imaginary part\n",
      "  images_scaled = images_scaled.astype(np.float32)\n",
      "/volatile/home/Zaccharie/workspace/fastmri-reproducible-benchmark/fastmri_recon/data/oasis_sequences.py:103: ComplexWarning: Casting complex values to real discards the imaginary part\n",
      "  images_scaled = images_scaled.astype(np.float32)\n",
      "/volatile/home/Zaccharie/workspace/fastmri-reproducible-benchmark/fastmri_recon/data/oasis_sequences.py:103: ComplexWarning: Casting complex values to real discards the imaginary part\n",
      "  images_scaled = images_scaled.astype(np.float32)\n",
      "/volatile/home/Zaccharie/workspace/fastmri-reproducible-benchmark/fastmri_recon/data/oasis_sequences.py:103: ComplexWarning: Casting complex values to real discards the imaginary part\n",
      "  images_scaled = images_scaled.astype(np.float32)\n",
      "/volatile/home/Zaccharie/workspace/fastmri-reproducible-benchmark/fastmri_recon/data/oasis_sequences.py:103: ComplexWarning: Casting complex values to real discards the imaginary part\n",
      "  images_scaled = images_scaled.astype(np.float32)\n",
      "/volatile/home/Zaccharie/workspace/fastmri-reproducible-benchmark/fastmri_recon/data/oasis_sequences.py:103: ComplexWarning: Casting complex values to real discards the imaginary part\n",
      "  images_scaled = images_scaled.astype(np.float32)\n",
      "/volatile/home/Zaccharie/workspace/fastmri-reproducible-benchmark/fastmri_recon/data/oasis_sequences.py:103: ComplexWarning: Casting complex values to real discards the imaginary part\n",
      "  images_scaled = images_scaled.astype(np.float32)\n",
      "W0919 14:02:55.159425 140371369891584 deprecation_wrapper.py:119] From /volatile/home/Zaccharie/workspace/keras/keras/callbacks/tensorboard_v1.py:343: The name tf.Summary is deprecated. Please use tf.compat.v1.Summary instead.\n",
      "\n"
     ]
    },
    {
     "data": {
      "application/vnd.jupyter.widget-view+json": {
       "model_id": "",
       "version_major": 2,
       "version_minor": 0
      },
      "text/plain": [
       "HBox(children=(IntProgress(value=0, description='Epoch 1', max=5, style=ProgressStyle(description_width='initi…"
      ]
     },
     "metadata": {},
     "output_type": "display_data"
    },
    {
     "name": "stderr",
     "output_type": "stream",
     "text": [
      "/volatile/home/Zaccharie/workspace/fastmri-reproducible-benchmark/fastmri_recon/data/oasis_sequences.py:103: ComplexWarning: Casting complex values to real discards the imaginary part\n",
      "  images_scaled = images_scaled.astype(np.float32)\n",
      "/volatile/home/Zaccharie/workspace/fastmri-reproducible-benchmark/fastmri_recon/data/oasis_sequences.py:103: ComplexWarning: Casting complex values to real discards the imaginary part\n",
      "  images_scaled = images_scaled.astype(np.float32)\n",
      "/volatile/home/Zaccharie/workspace/fastmri-reproducible-benchmark/fastmri_recon/data/oasis_sequences.py:103: ComplexWarning: Casting complex values to real discards the imaginary part\n",
      "  images_scaled = images_scaled.astype(np.float32)\n",
      "/volatile/home/Zaccharie/workspace/fastmri-reproducible-benchmark/fastmri_recon/data/oasis_sequences.py:103: ComplexWarning: Casting complex values to real discards the imaginary part\n",
      "  images_scaled = images_scaled.astype(np.float32)\n",
      "/volatile/home/Zaccharie/workspace/fastmri-reproducible-benchmark/fastmri_recon/data/oasis_sequences.py:103: ComplexWarning: Casting complex values to real discards the imaginary part\n",
      "  images_scaled = images_scaled.astype(np.float32)\n",
      "/volatile/home/Zaccharie/workspace/fastmri-reproducible-benchmark/fastmri_recon/data/oasis_sequences.py:103: ComplexWarning: Casting complex values to real discards the imaginary part\n",
      "  images_scaled = images_scaled.astype(np.float32)\n"
     ]
    },
    {
     "data": {
      "application/vnd.jupyter.widget-view+json": {
       "model_id": "",
       "version_major": 2,
       "version_minor": 0
      },
      "text/plain": [
       "HBox(children=(IntProgress(value=0, description='Epoch 2', max=5, style=ProgressStyle(description_width='initi…"
      ]
     },
     "metadata": {},
     "output_type": "display_data"
    },
    {
     "name": "stderr",
     "output_type": "stream",
     "text": [
      "/volatile/home/Zaccharie/workspace/fastmri-reproducible-benchmark/fastmri_recon/data/oasis_sequences.py:103: ComplexWarning: Casting complex values to real discards the imaginary part\n",
      "  images_scaled = images_scaled.astype(np.float32)\n",
      "/volatile/home/Zaccharie/workspace/fastmri-reproducible-benchmark/fastmri_recon/data/oasis_sequences.py:103: ComplexWarning: Casting complex values to real discards the imaginary part\n",
      "  images_scaled = images_scaled.astype(np.float32)\n",
      "/volatile/home/Zaccharie/workspace/fastmri-reproducible-benchmark/fastmri_recon/data/oasis_sequences.py:103: ComplexWarning: Casting complex values to real discards the imaginary part\n",
      "  images_scaled = images_scaled.astype(np.float32)\n",
      "/volatile/home/Zaccharie/workspace/fastmri-reproducible-benchmark/fastmri_recon/data/oasis_sequences.py:103: ComplexWarning: Casting complex values to real discards the imaginary part\n",
      "  images_scaled = images_scaled.astype(np.float32)\n",
      "/volatile/home/Zaccharie/workspace/fastmri-reproducible-benchmark/fastmri_recon/data/oasis_sequences.py:103: ComplexWarning: Casting complex values to real discards the imaginary part\n",
      "  images_scaled = images_scaled.astype(np.float32)\n",
      "/volatile/home/Zaccharie/workspace/fastmri-reproducible-benchmark/fastmri_recon/data/oasis_sequences.py:103: ComplexWarning: Casting complex values to real discards the imaginary part\n",
      "  images_scaled = images_scaled.astype(np.float32)\n"
     ]
    },
    {
     "data": {
      "application/vnd.jupyter.widget-view+json": {
       "model_id": "",
       "version_major": 2,
       "version_minor": 0
      },
      "text/plain": [
       "HBox(children=(IntProgress(value=0, description='Epoch 3', max=5, style=ProgressStyle(description_width='initi…"
      ]
     },
     "metadata": {},
     "output_type": "display_data"
    },
    {
     "name": "stderr",
     "output_type": "stream",
     "text": [
      "/volatile/home/Zaccharie/workspace/fastmri-reproducible-benchmark/fastmri_recon/data/oasis_sequences.py:103: ComplexWarning: Casting complex values to real discards the imaginary part\n",
      "  images_scaled = images_scaled.astype(np.float32)\n",
      "/volatile/home/Zaccharie/workspace/fastmri-reproducible-benchmark/fastmri_recon/data/oasis_sequences.py:103: ComplexWarning: Casting complex values to real discards the imaginary part\n",
      "  images_scaled = images_scaled.astype(np.float32)\n",
      "/volatile/home/Zaccharie/workspace/fastmri-reproducible-benchmark/fastmri_recon/data/oasis_sequences.py:103: ComplexWarning: Casting complex values to real discards the imaginary part\n",
      "  images_scaled = images_scaled.astype(np.float32)\n",
      "/volatile/home/Zaccharie/workspace/fastmri-reproducible-benchmark/fastmri_recon/data/oasis_sequences.py:103: ComplexWarning: Casting complex values to real discards the imaginary part\n",
      "  images_scaled = images_scaled.astype(np.float32)\n",
      "/volatile/home/Zaccharie/workspace/fastmri-reproducible-benchmark/fastmri_recon/data/oasis_sequences.py:103: ComplexWarning: Casting complex values to real discards the imaginary part\n",
      "  images_scaled = images_scaled.astype(np.float32)\n",
      "/volatile/home/Zaccharie/workspace/fastmri-reproducible-benchmark/fastmri_recon/data/oasis_sequences.py:103: ComplexWarning: Casting complex values to real discards the imaginary part\n",
      "  images_scaled = images_scaled.astype(np.float32)\n"
     ]
    },
    {
     "data": {
      "application/vnd.jupyter.widget-view+json": {
       "model_id": "",
       "version_major": 2,
       "version_minor": 0
      },
      "text/plain": [
       "HBox(children=(IntProgress(value=0, description='Epoch 4', max=5, style=ProgressStyle(description_width='initi…"
      ]
     },
     "metadata": {},
     "output_type": "display_data"
    },
    {
     "name": "stderr",
     "output_type": "stream",
     "text": [
      "/volatile/home/Zaccharie/workspace/fastmri-reproducible-benchmark/fastmri_recon/data/oasis_sequences.py:103: ComplexWarning: Casting complex values to real discards the imaginary part\n",
      "  images_scaled = images_scaled.astype(np.float32)\n",
      "/volatile/home/Zaccharie/workspace/fastmri-reproducible-benchmark/fastmri_recon/data/oasis_sequences.py:103: ComplexWarning: Casting complex values to real discards the imaginary part\n",
      "  images_scaled = images_scaled.astype(np.float32)\n",
      "/volatile/home/Zaccharie/workspace/fastmri-reproducible-benchmark/fastmri_recon/data/oasis_sequences.py:103: ComplexWarning: Casting complex values to real discards the imaginary part\n",
      "  images_scaled = images_scaled.astype(np.float32)\n",
      "/volatile/home/Zaccharie/workspace/fastmri-reproducible-benchmark/fastmri_recon/data/oasis_sequences.py:103: ComplexWarning: Casting complex values to real discards the imaginary part\n",
      "  images_scaled = images_scaled.astype(np.float32)\n",
      "/volatile/home/Zaccharie/workspace/fastmri-reproducible-benchmark/fastmri_recon/data/oasis_sequences.py:103: ComplexWarning: Casting complex values to real discards the imaginary part\n",
      "  images_scaled = images_scaled.astype(np.float32)\n",
      "/volatile/home/Zaccharie/workspace/fastmri-reproducible-benchmark/fastmri_recon/data/oasis_sequences.py:103: ComplexWarning: Casting complex values to real discards the imaginary part\n",
      "  images_scaled = images_scaled.astype(np.float32)\n"
     ]
    },
    {
     "data": {
      "application/vnd.jupyter.widget-view+json": {
       "model_id": "",
       "version_major": 2,
       "version_minor": 0
      },
      "text/plain": [
       "HBox(children=(IntProgress(value=0, description='Epoch 5', max=5, style=ProgressStyle(description_width='initi…"
      ]
     },
     "metadata": {},
     "output_type": "display_data"
    },
    {
     "name": "stderr",
     "output_type": "stream",
     "text": [
      "/volatile/home/Zaccharie/workspace/fastmri-reproducible-benchmark/fastmri_recon/data/oasis_sequences.py:103: ComplexWarning: Casting complex values to real discards the imaginary part\n",
      "  images_scaled = images_scaled.astype(np.float32)\n",
      "/volatile/home/Zaccharie/workspace/fastmri-reproducible-benchmark/fastmri_recon/data/oasis_sequences.py:103: ComplexWarning: Casting complex values to real discards the imaginary part\n",
      "  images_scaled = images_scaled.astype(np.float32)\n",
      "/volatile/home/Zaccharie/workspace/fastmri-reproducible-benchmark/fastmri_recon/data/oasis_sequences.py:103: ComplexWarning: Casting complex values to real discards the imaginary part\n",
      "  images_scaled = images_scaled.astype(np.float32)\n",
      "/volatile/home/Zaccharie/workspace/fastmri-reproducible-benchmark/fastmri_recon/data/oasis_sequences.py:103: ComplexWarning: Casting complex values to real discards the imaginary part\n",
      "  images_scaled = images_scaled.astype(np.float32)\n",
      "/volatile/home/Zaccharie/workspace/fastmri-reproducible-benchmark/fastmri_recon/data/oasis_sequences.py:103: ComplexWarning: Casting complex values to real discards the imaginary part\n",
      "  images_scaled = images_scaled.astype(np.float32)\n",
      "/volatile/home/Zaccharie/workspace/fastmri-reproducible-benchmark/fastmri_recon/data/oasis_sequences.py:103: ComplexWarning: Casting complex values to real discards the imaginary part\n",
      "  images_scaled = images_scaled.astype(np.float32)\n"
     ]
    },
    {
     "data": {
      "application/vnd.jupyter.widget-view+json": {
       "model_id": "",
       "version_major": 2,
       "version_minor": 0
      },
      "text/plain": [
       "HBox(children=(IntProgress(value=0, description='Epoch 6', max=5, style=ProgressStyle(description_width='initi…"
      ]
     },
     "metadata": {},
     "output_type": "display_data"
    },
    {
     "name": "stderr",
     "output_type": "stream",
     "text": [
      "/volatile/home/Zaccharie/workspace/fastmri-reproducible-benchmark/fastmri_recon/data/oasis_sequences.py:103: ComplexWarning: Casting complex values to real discards the imaginary part\n",
      "  images_scaled = images_scaled.astype(np.float32)\n",
      "/volatile/home/Zaccharie/workspace/fastmri-reproducible-benchmark/fastmri_recon/data/oasis_sequences.py:103: ComplexWarning: Casting complex values to real discards the imaginary part\n",
      "  images_scaled = images_scaled.astype(np.float32)\n",
      "/volatile/home/Zaccharie/workspace/fastmri-reproducible-benchmark/fastmri_recon/data/oasis_sequences.py:103: ComplexWarning: Casting complex values to real discards the imaginary part\n",
      "  images_scaled = images_scaled.astype(np.float32)\n",
      "/volatile/home/Zaccharie/workspace/fastmri-reproducible-benchmark/fastmri_recon/data/oasis_sequences.py:103: ComplexWarning: Casting complex values to real discards the imaginary part\n",
      "  images_scaled = images_scaled.astype(np.float32)\n",
      "/volatile/home/Zaccharie/workspace/fastmri-reproducible-benchmark/fastmri_recon/data/oasis_sequences.py:103: ComplexWarning: Casting complex values to real discards the imaginary part\n",
      "  images_scaled = images_scaled.astype(np.float32)\n",
      "/volatile/home/Zaccharie/workspace/fastmri-reproducible-benchmark/fastmri_recon/data/oasis_sequences.py:103: ComplexWarning: Casting complex values to real discards the imaginary part\n",
      "  images_scaled = images_scaled.astype(np.float32)\n"
     ]
    },
    {
     "data": {
      "application/vnd.jupyter.widget-view+json": {
       "model_id": "",
       "version_major": 2,
       "version_minor": 0
      },
      "text/plain": [
       "HBox(children=(IntProgress(value=0, description='Epoch 7', max=5, style=ProgressStyle(description_width='initi…"
      ]
     },
     "metadata": {},
     "output_type": "display_data"
    },
    {
     "name": "stderr",
     "output_type": "stream",
     "text": [
      "/volatile/home/Zaccharie/workspace/fastmri-reproducible-benchmark/fastmri_recon/data/oasis_sequences.py:103: ComplexWarning: Casting complex values to real discards the imaginary part\n",
      "  images_scaled = images_scaled.astype(np.float32)\n",
      "/volatile/home/Zaccharie/workspace/fastmri-reproducible-benchmark/fastmri_recon/data/oasis_sequences.py:103: ComplexWarning: Casting complex values to real discards the imaginary part\n",
      "  images_scaled = images_scaled.astype(np.float32)\n",
      "/volatile/home/Zaccharie/workspace/fastmri-reproducible-benchmark/fastmri_recon/data/oasis_sequences.py:103: ComplexWarning: Casting complex values to real discards the imaginary part\n",
      "  images_scaled = images_scaled.astype(np.float32)\n",
      "/volatile/home/Zaccharie/workspace/fastmri-reproducible-benchmark/fastmri_recon/data/oasis_sequences.py:103: ComplexWarning: Casting complex values to real discards the imaginary part\n",
      "  images_scaled = images_scaled.astype(np.float32)\n",
      "/volatile/home/Zaccharie/workspace/fastmri-reproducible-benchmark/fastmri_recon/data/oasis_sequences.py:103: ComplexWarning: Casting complex values to real discards the imaginary part\n",
      "  images_scaled = images_scaled.astype(np.float32)\n",
      "/volatile/home/Zaccharie/workspace/fastmri-reproducible-benchmark/fastmri_recon/data/oasis_sequences.py:103: ComplexWarning: Casting complex values to real discards the imaginary part\n",
      "  images_scaled = images_scaled.astype(np.float32)\n"
     ]
    },
    {
     "data": {
      "application/vnd.jupyter.widget-view+json": {
       "model_id": "",
       "version_major": 2,
       "version_minor": 0
      },
      "text/plain": [
       "HBox(children=(IntProgress(value=0, description='Epoch 8', max=5, style=ProgressStyle(description_width='initi…"
      ]
     },
     "metadata": {},
     "output_type": "display_data"
    },
    {
     "name": "stderr",
     "output_type": "stream",
     "text": [
      "/volatile/home/Zaccharie/workspace/fastmri-reproducible-benchmark/fastmri_recon/data/oasis_sequences.py:103: ComplexWarning: Casting complex values to real discards the imaginary part\n",
      "  images_scaled = images_scaled.astype(np.float32)\n",
      "/volatile/home/Zaccharie/workspace/fastmri-reproducible-benchmark/fastmri_recon/data/oasis_sequences.py:103: ComplexWarning: Casting complex values to real discards the imaginary part\n",
      "  images_scaled = images_scaled.astype(np.float32)\n",
      "/volatile/home/Zaccharie/workspace/fastmri-reproducible-benchmark/fastmri_recon/data/oasis_sequences.py:103: ComplexWarning: Casting complex values to real discards the imaginary part\n",
      "  images_scaled = images_scaled.astype(np.float32)\n",
      "/volatile/home/Zaccharie/workspace/fastmri-reproducible-benchmark/fastmri_recon/data/oasis_sequences.py:103: ComplexWarning: Casting complex values to real discards the imaginary part\n",
      "  images_scaled = images_scaled.astype(np.float32)\n",
      "/volatile/home/Zaccharie/workspace/fastmri-reproducible-benchmark/fastmri_recon/data/oasis_sequences.py:103: ComplexWarning: Casting complex values to real discards the imaginary part\n",
      "  images_scaled = images_scaled.astype(np.float32)\n",
      "/volatile/home/Zaccharie/workspace/fastmri-reproducible-benchmark/fastmri_recon/data/oasis_sequences.py:103: ComplexWarning: Casting complex values to real discards the imaginary part\n",
      "  images_scaled = images_scaled.astype(np.float32)\n"
     ]
    },
    {
     "data": {
      "application/vnd.jupyter.widget-view+json": {
       "model_id": "",
       "version_major": 2,
       "version_minor": 0
      },
      "text/plain": [
       "HBox(children=(IntProgress(value=0, description='Epoch 9', max=5, style=ProgressStyle(description_width='initi…"
      ]
     },
     "metadata": {},
     "output_type": "display_data"
    },
    {
     "name": "stderr",
     "output_type": "stream",
     "text": [
      "/volatile/home/Zaccharie/workspace/fastmri-reproducible-benchmark/fastmri_recon/data/oasis_sequences.py:103: ComplexWarning: Casting complex values to real discards the imaginary part\n",
      "  images_scaled = images_scaled.astype(np.float32)\n",
      "/volatile/home/Zaccharie/workspace/fastmri-reproducible-benchmark/fastmri_recon/data/oasis_sequences.py:103: ComplexWarning: Casting complex values to real discards the imaginary part\n",
      "  images_scaled = images_scaled.astype(np.float32)\n",
      "/volatile/home/Zaccharie/workspace/fastmri-reproducible-benchmark/fastmri_recon/data/oasis_sequences.py:103: ComplexWarning: Casting complex values to real discards the imaginary part\n",
      "  images_scaled = images_scaled.astype(np.float32)\n",
      "/volatile/home/Zaccharie/workspace/fastmri-reproducible-benchmark/fastmri_recon/data/oasis_sequences.py:103: ComplexWarning: Casting complex values to real discards the imaginary part\n",
      "  images_scaled = images_scaled.astype(np.float32)\n",
      "/volatile/home/Zaccharie/workspace/fastmri-reproducible-benchmark/fastmri_recon/data/oasis_sequences.py:103: ComplexWarning: Casting complex values to real discards the imaginary part\n",
      "  images_scaled = images_scaled.astype(np.float32)\n",
      "/volatile/home/Zaccharie/workspace/fastmri-reproducible-benchmark/fastmri_recon/data/oasis_sequences.py:103: ComplexWarning: Casting complex values to real discards the imaginary part\n",
      "  images_scaled = images_scaled.astype(np.float32)\n"
     ]
    },
    {
     "data": {
      "application/vnd.jupyter.widget-view+json": {
       "model_id": "",
       "version_major": 2,
       "version_minor": 0
      },
      "text/plain": [
       "HBox(children=(IntProgress(value=0, description='Epoch 10', max=5, style=ProgressStyle(description_width='init…"
      ]
     },
     "metadata": {},
     "output_type": "display_data"
    },
    {
     "name": "stderr",
     "output_type": "stream",
     "text": [
      "/volatile/home/Zaccharie/workspace/fastmri-reproducible-benchmark/fastmri_recon/data/oasis_sequences.py:103: ComplexWarning: Casting complex values to real discards the imaginary part\n",
      "  images_scaled = images_scaled.astype(np.float32)\n",
      "/volatile/home/Zaccharie/workspace/fastmri-reproducible-benchmark/fastmri_recon/data/oasis_sequences.py:103: ComplexWarning: Casting complex values to real discards the imaginary part\n",
      "  images_scaled = images_scaled.astype(np.float32)\n",
      "/volatile/home/Zaccharie/workspace/fastmri-reproducible-benchmark/fastmri_recon/data/oasis_sequences.py:103: ComplexWarning: Casting complex values to real discards the imaginary part\n",
      "  images_scaled = images_scaled.astype(np.float32)\n",
      "/volatile/home/Zaccharie/workspace/fastmri-reproducible-benchmark/fastmri_recon/data/oasis_sequences.py:103: ComplexWarning: Casting complex values to real discards the imaginary part\n",
      "  images_scaled = images_scaled.astype(np.float32)\n",
      "/volatile/home/Zaccharie/workspace/fastmri-reproducible-benchmark/fastmri_recon/data/oasis_sequences.py:103: ComplexWarning: Casting complex values to real discards the imaginary part\n",
      "  images_scaled = images_scaled.astype(np.float32)\n",
      "/volatile/home/Zaccharie/workspace/fastmri-reproducible-benchmark/fastmri_recon/data/oasis_sequences.py:103: ComplexWarning: Casting complex values to real discards the imaginary part\n",
      "  images_scaled = images_scaled.astype(np.float32)\n"
     ]
    },
    {
     "data": {
      "application/vnd.jupyter.widget-view+json": {
       "model_id": "",
       "version_major": 2,
       "version_minor": 0
      },
      "text/plain": [
       "HBox(children=(IntProgress(value=0, description='Epoch 11', max=5, style=ProgressStyle(description_width='init…"
      ]
     },
     "metadata": {},
     "output_type": "display_data"
    },
    {
     "name": "stderr",
     "output_type": "stream",
     "text": [
      "/volatile/home/Zaccharie/workspace/fastmri-reproducible-benchmark/fastmri_recon/data/oasis_sequences.py:103: ComplexWarning: Casting complex values to real discards the imaginary part\n",
      "  images_scaled = images_scaled.astype(np.float32)\n",
      "/volatile/home/Zaccharie/workspace/fastmri-reproducible-benchmark/fastmri_recon/data/oasis_sequences.py:103: ComplexWarning: Casting complex values to real discards the imaginary part\n",
      "  images_scaled = images_scaled.astype(np.float32)\n",
      "/volatile/home/Zaccharie/workspace/fastmri-reproducible-benchmark/fastmri_recon/data/oasis_sequences.py:103: ComplexWarning: Casting complex values to real discards the imaginary part\n",
      "  images_scaled = images_scaled.astype(np.float32)\n",
      "/volatile/home/Zaccharie/workspace/fastmri-reproducible-benchmark/fastmri_recon/data/oasis_sequences.py:103: ComplexWarning: Casting complex values to real discards the imaginary part\n",
      "  images_scaled = images_scaled.astype(np.float32)\n",
      "/volatile/home/Zaccharie/workspace/fastmri-reproducible-benchmark/fastmri_recon/data/oasis_sequences.py:103: ComplexWarning: Casting complex values to real discards the imaginary part\n",
      "  images_scaled = images_scaled.astype(np.float32)\n",
      "/volatile/home/Zaccharie/workspace/fastmri-reproducible-benchmark/fastmri_recon/data/oasis_sequences.py:103: ComplexWarning: Casting complex values to real discards the imaginary part\n",
      "  images_scaled = images_scaled.astype(np.float32)\n"
     ]
    },
    {
     "data": {
      "application/vnd.jupyter.widget-view+json": {
       "model_id": "",
       "version_major": 2,
       "version_minor": 0
      },
      "text/plain": [
       "HBox(children=(IntProgress(value=0, description='Epoch 12', max=5, style=ProgressStyle(description_width='init…"
      ]
     },
     "metadata": {},
     "output_type": "display_data"
    },
    {
     "name": "stderr",
     "output_type": "stream",
     "text": [
      "/volatile/home/Zaccharie/workspace/fastmri-reproducible-benchmark/fastmri_recon/data/oasis_sequences.py:103: ComplexWarning: Casting complex values to real discards the imaginary part\n",
      "  images_scaled = images_scaled.astype(np.float32)\n",
      "/volatile/home/Zaccharie/workspace/fastmri-reproducible-benchmark/fastmri_recon/data/oasis_sequences.py:103: ComplexWarning: Casting complex values to real discards the imaginary part\n",
      "  images_scaled = images_scaled.astype(np.float32)\n",
      "/volatile/home/Zaccharie/workspace/fastmri-reproducible-benchmark/fastmri_recon/data/oasis_sequences.py:103: ComplexWarning: Casting complex values to real discards the imaginary part\n",
      "  images_scaled = images_scaled.astype(np.float32)\n",
      "/volatile/home/Zaccharie/workspace/fastmri-reproducible-benchmark/fastmri_recon/data/oasis_sequences.py:103: ComplexWarning: Casting complex values to real discards the imaginary part\n",
      "  images_scaled = images_scaled.astype(np.float32)\n",
      "/volatile/home/Zaccharie/workspace/fastmri-reproducible-benchmark/fastmri_recon/data/oasis_sequences.py:103: ComplexWarning: Casting complex values to real discards the imaginary part\n",
      "  images_scaled = images_scaled.astype(np.float32)\n",
      "/volatile/home/Zaccharie/workspace/fastmri-reproducible-benchmark/fastmri_recon/data/oasis_sequences.py:103: ComplexWarning: Casting complex values to real discards the imaginary part\n",
      "  images_scaled = images_scaled.astype(np.float32)\n"
     ]
    },
    {
     "data": {
      "application/vnd.jupyter.widget-view+json": {
       "model_id": "",
       "version_major": 2,
       "version_minor": 0
      },
      "text/plain": [
       "HBox(children=(IntProgress(value=0, description='Epoch 13', max=5, style=ProgressStyle(description_width='init…"
      ]
     },
     "metadata": {},
     "output_type": "display_data"
    },
    {
     "name": "stderr",
     "output_type": "stream",
     "text": [
      "/volatile/home/Zaccharie/workspace/fastmri-reproducible-benchmark/fastmri_recon/data/oasis_sequences.py:103: ComplexWarning: Casting complex values to real discards the imaginary part\n",
      "  images_scaled = images_scaled.astype(np.float32)\n",
      "/volatile/home/Zaccharie/workspace/fastmri-reproducible-benchmark/fastmri_recon/data/oasis_sequences.py:103: ComplexWarning: Casting complex values to real discards the imaginary part\n",
      "  images_scaled = images_scaled.astype(np.float32)\n",
      "/volatile/home/Zaccharie/workspace/fastmri-reproducible-benchmark/fastmri_recon/data/oasis_sequences.py:103: ComplexWarning: Casting complex values to real discards the imaginary part\n",
      "  images_scaled = images_scaled.astype(np.float32)\n",
      "/volatile/home/Zaccharie/workspace/fastmri-reproducible-benchmark/fastmri_recon/data/oasis_sequences.py:103: ComplexWarning: Casting complex values to real discards the imaginary part\n",
      "  images_scaled = images_scaled.astype(np.float32)\n",
      "/volatile/home/Zaccharie/workspace/fastmri-reproducible-benchmark/fastmri_recon/data/oasis_sequences.py:103: ComplexWarning: Casting complex values to real discards the imaginary part\n",
      "  images_scaled = images_scaled.astype(np.float32)\n",
      "/volatile/home/Zaccharie/workspace/fastmri-reproducible-benchmark/fastmri_recon/data/oasis_sequences.py:103: ComplexWarning: Casting complex values to real discards the imaginary part\n",
      "  images_scaled = images_scaled.astype(np.float32)\n"
     ]
    },
    {
     "data": {
      "application/vnd.jupyter.widget-view+json": {
       "model_id": "",
       "version_major": 2,
       "version_minor": 0
      },
      "text/plain": [
       "HBox(children=(IntProgress(value=0, description='Epoch 14', max=5, style=ProgressStyle(description_width='init…"
      ]
     },
     "metadata": {},
     "output_type": "display_data"
    },
    {
     "name": "stderr",
     "output_type": "stream",
     "text": [
      "/volatile/home/Zaccharie/workspace/fastmri-reproducible-benchmark/fastmri_recon/data/oasis_sequences.py:103: ComplexWarning: Casting complex values to real discards the imaginary part\n",
      "  images_scaled = images_scaled.astype(np.float32)\n",
      "/volatile/home/Zaccharie/workspace/fastmri-reproducible-benchmark/fastmri_recon/data/oasis_sequences.py:103: ComplexWarning: Casting complex values to real discards the imaginary part\n",
      "  images_scaled = images_scaled.astype(np.float32)\n",
      "/volatile/home/Zaccharie/workspace/fastmri-reproducible-benchmark/fastmri_recon/data/oasis_sequences.py:103: ComplexWarning: Casting complex values to real discards the imaginary part\n",
      "  images_scaled = images_scaled.astype(np.float32)\n",
      "/volatile/home/Zaccharie/workspace/fastmri-reproducible-benchmark/fastmri_recon/data/oasis_sequences.py:103: ComplexWarning: Casting complex values to real discards the imaginary part\n",
      "  images_scaled = images_scaled.astype(np.float32)\n",
      "/volatile/home/Zaccharie/workspace/fastmri-reproducible-benchmark/fastmri_recon/data/oasis_sequences.py:103: ComplexWarning: Casting complex values to real discards the imaginary part\n",
      "  images_scaled = images_scaled.astype(np.float32)\n",
      "/volatile/home/Zaccharie/workspace/fastmri-reproducible-benchmark/fastmri_recon/data/oasis_sequences.py:103: ComplexWarning: Casting complex values to real discards the imaginary part\n",
      "  images_scaled = images_scaled.astype(np.float32)\n"
     ]
    },
    {
     "data": {
      "application/vnd.jupyter.widget-view+json": {
       "model_id": "",
       "version_major": 2,
       "version_minor": 0
      },
      "text/plain": [
       "HBox(children=(IntProgress(value=0, description='Epoch 15', max=5, style=ProgressStyle(description_width='init…"
      ]
     },
     "metadata": {},
     "output_type": "display_data"
    },
    {
     "name": "stderr",
     "output_type": "stream",
     "text": [
      "/volatile/home/Zaccharie/workspace/fastmri-reproducible-benchmark/fastmri_recon/data/oasis_sequences.py:103: ComplexWarning: Casting complex values to real discards the imaginary part\n",
      "  images_scaled = images_scaled.astype(np.float32)\n",
      "/volatile/home/Zaccharie/workspace/fastmri-reproducible-benchmark/fastmri_recon/data/oasis_sequences.py:103: ComplexWarning: Casting complex values to real discards the imaginary part\n",
      "  images_scaled = images_scaled.astype(np.float32)\n",
      "/volatile/home/Zaccharie/workspace/fastmri-reproducible-benchmark/fastmri_recon/data/oasis_sequences.py:103: ComplexWarning: Casting complex values to real discards the imaginary part\n",
      "  images_scaled = images_scaled.astype(np.float32)\n",
      "/volatile/home/Zaccharie/workspace/fastmri-reproducible-benchmark/fastmri_recon/data/oasis_sequences.py:103: ComplexWarning: Casting complex values to real discards the imaginary part\n",
      "  images_scaled = images_scaled.astype(np.float32)\n",
      "/volatile/home/Zaccharie/workspace/fastmri-reproducible-benchmark/fastmri_recon/data/oasis_sequences.py:103: ComplexWarning: Casting complex values to real discards the imaginary part\n",
      "  images_scaled = images_scaled.astype(np.float32)\n",
      "/volatile/home/Zaccharie/workspace/fastmri-reproducible-benchmark/fastmri_recon/data/oasis_sequences.py:103: ComplexWarning: Casting complex values to real discards the imaginary part\n",
      "  images_scaled = images_scaled.astype(np.float32)\n"
     ]
    },
    {
     "data": {
      "application/vnd.jupyter.widget-view+json": {
       "model_id": "",
       "version_major": 2,
       "version_minor": 0
      },
      "text/plain": [
       "HBox(children=(IntProgress(value=0, description='Epoch 16', max=5, style=ProgressStyle(description_width='init…"
      ]
     },
     "metadata": {},
     "output_type": "display_data"
    },
    {
     "name": "stderr",
     "output_type": "stream",
     "text": [
      "/volatile/home/Zaccharie/workspace/fastmri-reproducible-benchmark/fastmri_recon/data/oasis_sequences.py:103: ComplexWarning: Casting complex values to real discards the imaginary part\n",
      "  images_scaled = images_scaled.astype(np.float32)\n",
      "/volatile/home/Zaccharie/workspace/fastmri-reproducible-benchmark/fastmri_recon/data/oasis_sequences.py:103: ComplexWarning: Casting complex values to real discards the imaginary part\n",
      "  images_scaled = images_scaled.astype(np.float32)\n",
      "/volatile/home/Zaccharie/workspace/fastmri-reproducible-benchmark/fastmri_recon/data/oasis_sequences.py:103: ComplexWarning: Casting complex values to real discards the imaginary part\n",
      "  images_scaled = images_scaled.astype(np.float32)\n",
      "/volatile/home/Zaccharie/workspace/fastmri-reproducible-benchmark/fastmri_recon/data/oasis_sequences.py:103: ComplexWarning: Casting complex values to real discards the imaginary part\n",
      "  images_scaled = images_scaled.astype(np.float32)\n",
      "/volatile/home/Zaccharie/workspace/fastmri-reproducible-benchmark/fastmri_recon/data/oasis_sequences.py:103: ComplexWarning: Casting complex values to real discards the imaginary part\n",
      "  images_scaled = images_scaled.astype(np.float32)\n",
      "/volatile/home/Zaccharie/workspace/fastmri-reproducible-benchmark/fastmri_recon/data/oasis_sequences.py:103: ComplexWarning: Casting complex values to real discards the imaginary part\n",
      "  images_scaled = images_scaled.astype(np.float32)\n"
     ]
    },
    {
     "data": {
      "application/vnd.jupyter.widget-view+json": {
       "model_id": "",
       "version_major": 2,
       "version_minor": 0
      },
      "text/plain": [
       "HBox(children=(IntProgress(value=0, description='Epoch 17', max=5, style=ProgressStyle(description_width='init…"
      ]
     },
     "metadata": {},
     "output_type": "display_data"
    },
    {
     "name": "stderr",
     "output_type": "stream",
     "text": [
      "/volatile/home/Zaccharie/workspace/fastmri-reproducible-benchmark/fastmri_recon/data/oasis_sequences.py:103: ComplexWarning: Casting complex values to real discards the imaginary part\n",
      "  images_scaled = images_scaled.astype(np.float32)\n",
      "/volatile/home/Zaccharie/workspace/fastmri-reproducible-benchmark/fastmri_recon/data/oasis_sequences.py:103: ComplexWarning: Casting complex values to real discards the imaginary part\n",
      "  images_scaled = images_scaled.astype(np.float32)\n",
      "/volatile/home/Zaccharie/workspace/fastmri-reproducible-benchmark/fastmri_recon/data/oasis_sequences.py:103: ComplexWarning: Casting complex values to real discards the imaginary part\n",
      "  images_scaled = images_scaled.astype(np.float32)\n",
      "/volatile/home/Zaccharie/workspace/fastmri-reproducible-benchmark/fastmri_recon/data/oasis_sequences.py:103: ComplexWarning: Casting complex values to real discards the imaginary part\n",
      "  images_scaled = images_scaled.astype(np.float32)\n",
      "/volatile/home/Zaccharie/workspace/fastmri-reproducible-benchmark/fastmri_recon/data/oasis_sequences.py:103: ComplexWarning: Casting complex values to real discards the imaginary part\n",
      "  images_scaled = images_scaled.astype(np.float32)\n",
      "/volatile/home/Zaccharie/workspace/fastmri-reproducible-benchmark/fastmri_recon/data/oasis_sequences.py:103: ComplexWarning: Casting complex values to real discards the imaginary part\n",
      "  images_scaled = images_scaled.astype(np.float32)\n"
     ]
    },
    {
     "data": {
      "application/vnd.jupyter.widget-view+json": {
       "model_id": "",
       "version_major": 2,
       "version_minor": 0
      },
      "text/plain": [
       "HBox(children=(IntProgress(value=0, description='Epoch 18', max=5, style=ProgressStyle(description_width='init…"
      ]
     },
     "metadata": {},
     "output_type": "display_data"
    },
    {
     "name": "stderr",
     "output_type": "stream",
     "text": [
      "/volatile/home/Zaccharie/workspace/fastmri-reproducible-benchmark/fastmri_recon/data/oasis_sequences.py:103: ComplexWarning: Casting complex values to real discards the imaginary part\n",
      "  images_scaled = images_scaled.astype(np.float32)\n",
      "/volatile/home/Zaccharie/workspace/fastmri-reproducible-benchmark/fastmri_recon/data/oasis_sequences.py:103: ComplexWarning: Casting complex values to real discards the imaginary part\n",
      "  images_scaled = images_scaled.astype(np.float32)\n",
      "/volatile/home/Zaccharie/workspace/fastmri-reproducible-benchmark/fastmri_recon/data/oasis_sequences.py:103: ComplexWarning: Casting complex values to real discards the imaginary part\n",
      "  images_scaled = images_scaled.astype(np.float32)\n",
      "/volatile/home/Zaccharie/workspace/fastmri-reproducible-benchmark/fastmri_recon/data/oasis_sequences.py:103: ComplexWarning: Casting complex values to real discards the imaginary part\n",
      "  images_scaled = images_scaled.astype(np.float32)\n",
      "/volatile/home/Zaccharie/workspace/fastmri-reproducible-benchmark/fastmri_recon/data/oasis_sequences.py:103: ComplexWarning: Casting complex values to real discards the imaginary part\n",
      "  images_scaled = images_scaled.astype(np.float32)\n",
      "/volatile/home/Zaccharie/workspace/fastmri-reproducible-benchmark/fastmri_recon/data/oasis_sequences.py:103: ComplexWarning: Casting complex values to real discards the imaginary part\n",
      "  images_scaled = images_scaled.astype(np.float32)\n"
     ]
    },
    {
     "data": {
      "application/vnd.jupyter.widget-view+json": {
       "model_id": "",
       "version_major": 2,
       "version_minor": 0
      },
      "text/plain": [
       "HBox(children=(IntProgress(value=0, description='Epoch 19', max=5, style=ProgressStyle(description_width='init…"
      ]
     },
     "metadata": {},
     "output_type": "display_data"
    },
    {
     "name": "stderr",
     "output_type": "stream",
     "text": [
      "/volatile/home/Zaccharie/workspace/fastmri-reproducible-benchmark/fastmri_recon/data/oasis_sequences.py:103: ComplexWarning: Casting complex values to real discards the imaginary part\n",
      "  images_scaled = images_scaled.astype(np.float32)\n",
      "/volatile/home/Zaccharie/workspace/fastmri-reproducible-benchmark/fastmri_recon/data/oasis_sequences.py:103: ComplexWarning: Casting complex values to real discards the imaginary part\n",
      "  images_scaled = images_scaled.astype(np.float32)\n",
      "/volatile/home/Zaccharie/workspace/fastmri-reproducible-benchmark/fastmri_recon/data/oasis_sequences.py:103: ComplexWarning: Casting complex values to real discards the imaginary part\n",
      "  images_scaled = images_scaled.astype(np.float32)\n",
      "/volatile/home/Zaccharie/workspace/fastmri-reproducible-benchmark/fastmri_recon/data/oasis_sequences.py:103: ComplexWarning: Casting complex values to real discards the imaginary part\n",
      "  images_scaled = images_scaled.astype(np.float32)\n",
      "/volatile/home/Zaccharie/workspace/fastmri-reproducible-benchmark/fastmri_recon/data/oasis_sequences.py:103: ComplexWarning: Casting complex values to real discards the imaginary part\n",
      "  images_scaled = images_scaled.astype(np.float32)\n",
      "/volatile/home/Zaccharie/workspace/fastmri-reproducible-benchmark/fastmri_recon/data/oasis_sequences.py:103: ComplexWarning: Casting complex values to real discards the imaginary part\n",
      "  images_scaled = images_scaled.astype(np.float32)\n"
     ]
    },
    {
     "data": {
      "application/vnd.jupyter.widget-view+json": {
       "model_id": "",
       "version_major": 2,
       "version_minor": 0
      },
      "text/plain": [
       "HBox(children=(IntProgress(value=0, description='Epoch 20', max=5, style=ProgressStyle(description_width='init…"
      ]
     },
     "metadata": {},
     "output_type": "display_data"
    },
    {
     "name": "stderr",
     "output_type": "stream",
     "text": [
      "/volatile/home/Zaccharie/workspace/fastmri-reproducible-benchmark/fastmri_recon/data/oasis_sequences.py:103: ComplexWarning: Casting complex values to real discards the imaginary part\n",
      "  images_scaled = images_scaled.astype(np.float32)\n",
      "/volatile/home/Zaccharie/workspace/fastmri-reproducible-benchmark/fastmri_recon/data/oasis_sequences.py:103: ComplexWarning: Casting complex values to real discards the imaginary part\n",
      "  images_scaled = images_scaled.astype(np.float32)\n",
      "/volatile/home/Zaccharie/workspace/fastmri-reproducible-benchmark/fastmri_recon/data/oasis_sequences.py:103: ComplexWarning: Casting complex values to real discards the imaginary part\n",
      "  images_scaled = images_scaled.astype(np.float32)\n",
      "/volatile/home/Zaccharie/workspace/fastmri-reproducible-benchmark/fastmri_recon/data/oasis_sequences.py:103: ComplexWarning: Casting complex values to real discards the imaginary part\n",
      "  images_scaled = images_scaled.astype(np.float32)\n",
      "/volatile/home/Zaccharie/workspace/fastmri-reproducible-benchmark/fastmri_recon/data/oasis_sequences.py:103: ComplexWarning: Casting complex values to real discards the imaginary part\n",
      "  images_scaled = images_scaled.astype(np.float32)\n",
      "/volatile/home/Zaccharie/workspace/fastmri-reproducible-benchmark/fastmri_recon/data/oasis_sequences.py:103: ComplexWarning: Casting complex values to real discards the imaginary part\n",
      "  images_scaled = images_scaled.astype(np.float32)\n"
     ]
    },
    {
     "data": {
      "application/vnd.jupyter.widget-view+json": {
       "model_id": "",
       "version_major": 2,
       "version_minor": 0
      },
      "text/plain": [
       "HBox(children=(IntProgress(value=0, description='Epoch 21', max=5, style=ProgressStyle(description_width='init…"
      ]
     },
     "metadata": {},
     "output_type": "display_data"
    },
    {
     "name": "stderr",
     "output_type": "stream",
     "text": [
      "/volatile/home/Zaccharie/workspace/fastmri-reproducible-benchmark/fastmri_recon/data/oasis_sequences.py:103: ComplexWarning: Casting complex values to real discards the imaginary part\n",
      "  images_scaled = images_scaled.astype(np.float32)\n",
      "/volatile/home/Zaccharie/workspace/fastmri-reproducible-benchmark/fastmri_recon/data/oasis_sequences.py:103: ComplexWarning: Casting complex values to real discards the imaginary part\n",
      "  images_scaled = images_scaled.astype(np.float32)\n",
      "/volatile/home/Zaccharie/workspace/fastmri-reproducible-benchmark/fastmri_recon/data/oasis_sequences.py:103: ComplexWarning: Casting complex values to real discards the imaginary part\n",
      "  images_scaled = images_scaled.astype(np.float32)\n",
      "/volatile/home/Zaccharie/workspace/fastmri-reproducible-benchmark/fastmri_recon/data/oasis_sequences.py:103: ComplexWarning: Casting complex values to real discards the imaginary part\n",
      "  images_scaled = images_scaled.astype(np.float32)\n",
      "/volatile/home/Zaccharie/workspace/fastmri-reproducible-benchmark/fastmri_recon/data/oasis_sequences.py:103: ComplexWarning: Casting complex values to real discards the imaginary part\n",
      "  images_scaled = images_scaled.astype(np.float32)\n",
      "/volatile/home/Zaccharie/workspace/fastmri-reproducible-benchmark/fastmri_recon/data/oasis_sequences.py:103: ComplexWarning: Casting complex values to real discards the imaginary part\n",
      "  images_scaled = images_scaled.astype(np.float32)\n"
     ]
    },
    {
     "data": {
      "application/vnd.jupyter.widget-view+json": {
       "model_id": "",
       "version_major": 2,
       "version_minor": 0
      },
      "text/plain": [
       "HBox(children=(IntProgress(value=0, description='Epoch 22', max=5, style=ProgressStyle(description_width='init…"
      ]
     },
     "metadata": {},
     "output_type": "display_data"
    },
    {
     "name": "stderr",
     "output_type": "stream",
     "text": [
      "/volatile/home/Zaccharie/workspace/fastmri-reproducible-benchmark/fastmri_recon/data/oasis_sequences.py:103: ComplexWarning: Casting complex values to real discards the imaginary part\n",
      "  images_scaled = images_scaled.astype(np.float32)\n",
      "/volatile/home/Zaccharie/workspace/fastmri-reproducible-benchmark/fastmri_recon/data/oasis_sequences.py:103: ComplexWarning: Casting complex values to real discards the imaginary part\n",
      "  images_scaled = images_scaled.astype(np.float32)\n",
      "/volatile/home/Zaccharie/workspace/fastmri-reproducible-benchmark/fastmri_recon/data/oasis_sequences.py:103: ComplexWarning: Casting complex values to real discards the imaginary part\n",
      "  images_scaled = images_scaled.astype(np.float32)\n",
      "/volatile/home/Zaccharie/workspace/fastmri-reproducible-benchmark/fastmri_recon/data/oasis_sequences.py:103: ComplexWarning: Casting complex values to real discards the imaginary part\n",
      "  images_scaled = images_scaled.astype(np.float32)\n",
      "/volatile/home/Zaccharie/workspace/fastmri-reproducible-benchmark/fastmri_recon/data/oasis_sequences.py:103: ComplexWarning: Casting complex values to real discards the imaginary part\n",
      "  images_scaled = images_scaled.astype(np.float32)\n",
      "/volatile/home/Zaccharie/workspace/fastmri-reproducible-benchmark/fastmri_recon/data/oasis_sequences.py:103: ComplexWarning: Casting complex values to real discards the imaginary part\n",
      "  images_scaled = images_scaled.astype(np.float32)\n"
     ]
    },
    {
     "data": {
      "application/vnd.jupyter.widget-view+json": {
       "model_id": "",
       "version_major": 2,
       "version_minor": 0
      },
      "text/plain": [
       "HBox(children=(IntProgress(value=0, description='Epoch 23', max=5, style=ProgressStyle(description_width='init…"
      ]
     },
     "metadata": {},
     "output_type": "display_data"
    },
    {
     "name": "stderr",
     "output_type": "stream",
     "text": [
      "/volatile/home/Zaccharie/workspace/fastmri-reproducible-benchmark/fastmri_recon/data/oasis_sequences.py:103: ComplexWarning: Casting complex values to real discards the imaginary part\n",
      "  images_scaled = images_scaled.astype(np.float32)\n",
      "/volatile/home/Zaccharie/workspace/fastmri-reproducible-benchmark/fastmri_recon/data/oasis_sequences.py:103: ComplexWarning: Casting complex values to real discards the imaginary part\n",
      "  images_scaled = images_scaled.astype(np.float32)\n",
      "/volatile/home/Zaccharie/workspace/fastmri-reproducible-benchmark/fastmri_recon/data/oasis_sequences.py:103: ComplexWarning: Casting complex values to real discards the imaginary part\n",
      "  images_scaled = images_scaled.astype(np.float32)\n",
      "/volatile/home/Zaccharie/workspace/fastmri-reproducible-benchmark/fastmri_recon/data/oasis_sequences.py:103: ComplexWarning: Casting complex values to real discards the imaginary part\n",
      "  images_scaled = images_scaled.astype(np.float32)\n",
      "/volatile/home/Zaccharie/workspace/fastmri-reproducible-benchmark/fastmri_recon/data/oasis_sequences.py:103: ComplexWarning: Casting complex values to real discards the imaginary part\n",
      "  images_scaled = images_scaled.astype(np.float32)\n",
      "/volatile/home/Zaccharie/workspace/fastmri-reproducible-benchmark/fastmri_recon/data/oasis_sequences.py:103: ComplexWarning: Casting complex values to real discards the imaginary part\n",
      "  images_scaled = images_scaled.astype(np.float32)\n"
     ]
    },
    {
     "data": {
      "application/vnd.jupyter.widget-view+json": {
       "model_id": "",
       "version_major": 2,
       "version_minor": 0
      },
      "text/plain": [
       "HBox(children=(IntProgress(value=0, description='Epoch 24', max=5, style=ProgressStyle(description_width='init…"
      ]
     },
     "metadata": {},
     "output_type": "display_data"
    },
    {
     "name": "stderr",
     "output_type": "stream",
     "text": [
      "/volatile/home/Zaccharie/workspace/fastmri-reproducible-benchmark/fastmri_recon/data/oasis_sequences.py:103: ComplexWarning: Casting complex values to real discards the imaginary part\n",
      "  images_scaled = images_scaled.astype(np.float32)\n",
      "/volatile/home/Zaccharie/workspace/fastmri-reproducible-benchmark/fastmri_recon/data/oasis_sequences.py:103: ComplexWarning: Casting complex values to real discards the imaginary part\n",
      "  images_scaled = images_scaled.astype(np.float32)\n",
      "/volatile/home/Zaccharie/workspace/fastmri-reproducible-benchmark/fastmri_recon/data/oasis_sequences.py:103: ComplexWarning: Casting complex values to real discards the imaginary part\n",
      "  images_scaled = images_scaled.astype(np.float32)\n",
      "/volatile/home/Zaccharie/workspace/fastmri-reproducible-benchmark/fastmri_recon/data/oasis_sequences.py:103: ComplexWarning: Casting complex values to real discards the imaginary part\n",
      "  images_scaled = images_scaled.astype(np.float32)\n",
      "/volatile/home/Zaccharie/workspace/fastmri-reproducible-benchmark/fastmri_recon/data/oasis_sequences.py:103: ComplexWarning: Casting complex values to real discards the imaginary part\n",
      "  images_scaled = images_scaled.astype(np.float32)\n",
      "/volatile/home/Zaccharie/workspace/fastmri-reproducible-benchmark/fastmri_recon/data/oasis_sequences.py:103: ComplexWarning: Casting complex values to real discards the imaginary part\n",
      "  images_scaled = images_scaled.astype(np.float32)\n"
     ]
    },
    {
     "data": {
      "application/vnd.jupyter.widget-view+json": {
       "model_id": "",
       "version_major": 2,
       "version_minor": 0
      },
      "text/plain": [
       "HBox(children=(IntProgress(value=0, description='Epoch 25', max=5, style=ProgressStyle(description_width='init…"
      ]
     },
     "metadata": {},
     "output_type": "display_data"
    },
    {
     "name": "stderr",
     "output_type": "stream",
     "text": [
      "/volatile/home/Zaccharie/workspace/fastmri-reproducible-benchmark/fastmri_recon/data/oasis_sequences.py:103: ComplexWarning: Casting complex values to real discards the imaginary part\n",
      "  images_scaled = images_scaled.astype(np.float32)\n",
      "/volatile/home/Zaccharie/workspace/fastmri-reproducible-benchmark/fastmri_recon/data/oasis_sequences.py:103: ComplexWarning: Casting complex values to real discards the imaginary part\n",
      "  images_scaled = images_scaled.astype(np.float32)\n",
      "/volatile/home/Zaccharie/workspace/fastmri-reproducible-benchmark/fastmri_recon/data/oasis_sequences.py:103: ComplexWarning: Casting complex values to real discards the imaginary part\n",
      "  images_scaled = images_scaled.astype(np.float32)\n",
      "/volatile/home/Zaccharie/workspace/fastmri-reproducible-benchmark/fastmri_recon/data/oasis_sequences.py:103: ComplexWarning: Casting complex values to real discards the imaginary part\n",
      "  images_scaled = images_scaled.astype(np.float32)\n",
      "/volatile/home/Zaccharie/workspace/fastmri-reproducible-benchmark/fastmri_recon/data/oasis_sequences.py:103: ComplexWarning: Casting complex values to real discards the imaginary part\n",
      "  images_scaled = images_scaled.astype(np.float32)\n",
      "/volatile/home/Zaccharie/workspace/fastmri-reproducible-benchmark/fastmri_recon/data/oasis_sequences.py:103: ComplexWarning: Casting complex values to real discards the imaginary part\n",
      "  images_scaled = images_scaled.astype(np.float32)\n"
     ]
    },
    {
     "data": {
      "application/vnd.jupyter.widget-view+json": {
       "model_id": "",
       "version_major": 2,
       "version_minor": 0
      },
      "text/plain": [
       "HBox(children=(IntProgress(value=0, description='Epoch 26', max=5, style=ProgressStyle(description_width='init…"
      ]
     },
     "metadata": {},
     "output_type": "display_data"
    },
    {
     "name": "stderr",
     "output_type": "stream",
     "text": [
      "/volatile/home/Zaccharie/workspace/fastmri-reproducible-benchmark/fastmri_recon/data/oasis_sequences.py:103: ComplexWarning: Casting complex values to real discards the imaginary part\n",
      "  images_scaled = images_scaled.astype(np.float32)\n",
      "/volatile/home/Zaccharie/workspace/fastmri-reproducible-benchmark/fastmri_recon/data/oasis_sequences.py:103: ComplexWarning: Casting complex values to real discards the imaginary part\n",
      "  images_scaled = images_scaled.astype(np.float32)\n",
      "/volatile/home/Zaccharie/workspace/fastmri-reproducible-benchmark/fastmri_recon/data/oasis_sequences.py:103: ComplexWarning: Casting complex values to real discards the imaginary part\n",
      "  images_scaled = images_scaled.astype(np.float32)\n",
      "/volatile/home/Zaccharie/workspace/fastmri-reproducible-benchmark/fastmri_recon/data/oasis_sequences.py:103: ComplexWarning: Casting complex values to real discards the imaginary part\n",
      "  images_scaled = images_scaled.astype(np.float32)\n",
      "/volatile/home/Zaccharie/workspace/fastmri-reproducible-benchmark/fastmri_recon/data/oasis_sequences.py:103: ComplexWarning: Casting complex values to real discards the imaginary part\n",
      "  images_scaled = images_scaled.astype(np.float32)\n",
      "/volatile/home/Zaccharie/workspace/fastmri-reproducible-benchmark/fastmri_recon/data/oasis_sequences.py:103: ComplexWarning: Casting complex values to real discards the imaginary part\n",
      "  images_scaled = images_scaled.astype(np.float32)\n"
     ]
    },
    {
     "data": {
      "application/vnd.jupyter.widget-view+json": {
       "model_id": "",
       "version_major": 2,
       "version_minor": 0
      },
      "text/plain": [
       "HBox(children=(IntProgress(value=0, description='Epoch 27', max=5, style=ProgressStyle(description_width='init…"
      ]
     },
     "metadata": {},
     "output_type": "display_data"
    },
    {
     "name": "stderr",
     "output_type": "stream",
     "text": [
      "/volatile/home/Zaccharie/workspace/fastmri-reproducible-benchmark/fastmri_recon/data/oasis_sequences.py:103: ComplexWarning: Casting complex values to real discards the imaginary part\n",
      "  images_scaled = images_scaled.astype(np.float32)\n",
      "/volatile/home/Zaccharie/workspace/fastmri-reproducible-benchmark/fastmri_recon/data/oasis_sequences.py:103: ComplexWarning: Casting complex values to real discards the imaginary part\n",
      "  images_scaled = images_scaled.astype(np.float32)\n",
      "/volatile/home/Zaccharie/workspace/fastmri-reproducible-benchmark/fastmri_recon/data/oasis_sequences.py:103: ComplexWarning: Casting complex values to real discards the imaginary part\n",
      "  images_scaled = images_scaled.astype(np.float32)\n",
      "/volatile/home/Zaccharie/workspace/fastmri-reproducible-benchmark/fastmri_recon/data/oasis_sequences.py:103: ComplexWarning: Casting complex values to real discards the imaginary part\n",
      "  images_scaled = images_scaled.astype(np.float32)\n",
      "/volatile/home/Zaccharie/workspace/fastmri-reproducible-benchmark/fastmri_recon/data/oasis_sequences.py:103: ComplexWarning: Casting complex values to real discards the imaginary part\n",
      "  images_scaled = images_scaled.astype(np.float32)\n",
      "/volatile/home/Zaccharie/workspace/fastmri-reproducible-benchmark/fastmri_recon/data/oasis_sequences.py:103: ComplexWarning: Casting complex values to real discards the imaginary part\n",
      "  images_scaled = images_scaled.astype(np.float32)\n"
     ]
    },
    {
     "data": {
      "application/vnd.jupyter.widget-view+json": {
       "model_id": "",
       "version_major": 2,
       "version_minor": 0
      },
      "text/plain": [
       "HBox(children=(IntProgress(value=0, description='Epoch 28', max=5, style=ProgressStyle(description_width='init…"
      ]
     },
     "metadata": {},
     "output_type": "display_data"
    },
    {
     "name": "stderr",
     "output_type": "stream",
     "text": [
      "/volatile/home/Zaccharie/workspace/fastmri-reproducible-benchmark/fastmri_recon/data/oasis_sequences.py:103: ComplexWarning: Casting complex values to real discards the imaginary part\n",
      "  images_scaled = images_scaled.astype(np.float32)\n",
      "/volatile/home/Zaccharie/workspace/fastmri-reproducible-benchmark/fastmri_recon/data/oasis_sequences.py:103: ComplexWarning: Casting complex values to real discards the imaginary part\n",
      "  images_scaled = images_scaled.astype(np.float32)\n",
      "/volatile/home/Zaccharie/workspace/fastmri-reproducible-benchmark/fastmri_recon/data/oasis_sequences.py:103: ComplexWarning: Casting complex values to real discards the imaginary part\n",
      "  images_scaled = images_scaled.astype(np.float32)\n",
      "/volatile/home/Zaccharie/workspace/fastmri-reproducible-benchmark/fastmri_recon/data/oasis_sequences.py:103: ComplexWarning: Casting complex values to real discards the imaginary part\n",
      "  images_scaled = images_scaled.astype(np.float32)\n",
      "/volatile/home/Zaccharie/workspace/fastmri-reproducible-benchmark/fastmri_recon/data/oasis_sequences.py:103: ComplexWarning: Casting complex values to real discards the imaginary part\n",
      "  images_scaled = images_scaled.astype(np.float32)\n",
      "/volatile/home/Zaccharie/workspace/fastmri-reproducible-benchmark/fastmri_recon/data/oasis_sequences.py:103: ComplexWarning: Casting complex values to real discards the imaginary part\n",
      "  images_scaled = images_scaled.astype(np.float32)\n"
     ]
    },
    {
     "data": {
      "application/vnd.jupyter.widget-view+json": {
       "model_id": "",
       "version_major": 2,
       "version_minor": 0
      },
      "text/plain": [
       "HBox(children=(IntProgress(value=0, description='Epoch 29', max=5, style=ProgressStyle(description_width='init…"
      ]
     },
     "metadata": {},
     "output_type": "display_data"
    },
    {
     "name": "stderr",
     "output_type": "stream",
     "text": [
      "/volatile/home/Zaccharie/workspace/fastmri-reproducible-benchmark/fastmri_recon/data/oasis_sequences.py:103: ComplexWarning: Casting complex values to real discards the imaginary part\n",
      "  images_scaled = images_scaled.astype(np.float32)\n",
      "/volatile/home/Zaccharie/workspace/fastmri-reproducible-benchmark/fastmri_recon/data/oasis_sequences.py:103: ComplexWarning: Casting complex values to real discards the imaginary part\n",
      "  images_scaled = images_scaled.astype(np.float32)\n",
      "/volatile/home/Zaccharie/workspace/fastmri-reproducible-benchmark/fastmri_recon/data/oasis_sequences.py:103: ComplexWarning: Casting complex values to real discards the imaginary part\n",
      "  images_scaled = images_scaled.astype(np.float32)\n",
      "/volatile/home/Zaccharie/workspace/fastmri-reproducible-benchmark/fastmri_recon/data/oasis_sequences.py:103: ComplexWarning: Casting complex values to real discards the imaginary part\n",
      "  images_scaled = images_scaled.astype(np.float32)\n",
      "/volatile/home/Zaccharie/workspace/fastmri-reproducible-benchmark/fastmri_recon/data/oasis_sequences.py:103: ComplexWarning: Casting complex values to real discards the imaginary part\n",
      "  images_scaled = images_scaled.astype(np.float32)\n",
      "/volatile/home/Zaccharie/workspace/fastmri-reproducible-benchmark/fastmri_recon/data/oasis_sequences.py:103: ComplexWarning: Casting complex values to real discards the imaginary part\n",
      "  images_scaled = images_scaled.astype(np.float32)\n"
     ]
    },
    {
     "data": {
      "application/vnd.jupyter.widget-view+json": {
       "model_id": "",
       "version_major": 2,
       "version_minor": 0
      },
      "text/plain": [
       "HBox(children=(IntProgress(value=0, description='Epoch 30', max=5, style=ProgressStyle(description_width='init…"
      ]
     },
     "metadata": {},
     "output_type": "display_data"
    },
    {
     "name": "stderr",
     "output_type": "stream",
     "text": [
      "/volatile/home/Zaccharie/workspace/fastmri-reproducible-benchmark/fastmri_recon/data/oasis_sequences.py:103: ComplexWarning: Casting complex values to real discards the imaginary part\n",
      "  images_scaled = images_scaled.astype(np.float32)\n",
      "/volatile/home/Zaccharie/workspace/fastmri-reproducible-benchmark/fastmri_recon/data/oasis_sequences.py:103: ComplexWarning: Casting complex values to real discards the imaginary part\n",
      "  images_scaled = images_scaled.astype(np.float32)\n",
      "/volatile/home/Zaccharie/workspace/fastmri-reproducible-benchmark/fastmri_recon/data/oasis_sequences.py:103: ComplexWarning: Casting complex values to real discards the imaginary part\n",
      "  images_scaled = images_scaled.astype(np.float32)\n",
      "/volatile/home/Zaccharie/workspace/fastmri-reproducible-benchmark/fastmri_recon/data/oasis_sequences.py:103: ComplexWarning: Casting complex values to real discards the imaginary part\n",
      "  images_scaled = images_scaled.astype(np.float32)\n",
      "/volatile/home/Zaccharie/workspace/fastmri-reproducible-benchmark/fastmri_recon/data/oasis_sequences.py:103: ComplexWarning: Casting complex values to real discards the imaginary part\n",
      "  images_scaled = images_scaled.astype(np.float32)\n",
      "/volatile/home/Zaccharie/workspace/fastmri-reproducible-benchmark/fastmri_recon/data/oasis_sequences.py:103: ComplexWarning: Casting complex values to real discards the imaginary part\n",
      "  images_scaled = images_scaled.astype(np.float32)\n"
     ]
    },
    {
     "data": {
      "application/vnd.jupyter.widget-view+json": {
       "model_id": "",
       "version_major": 2,
       "version_minor": 0
      },
      "text/plain": [
       "HBox(children=(IntProgress(value=0, description='Epoch 31', max=5, style=ProgressStyle(description_width='init…"
      ]
     },
     "metadata": {},
     "output_type": "display_data"
    },
    {
     "name": "stderr",
     "output_type": "stream",
     "text": [
      "/volatile/home/Zaccharie/workspace/fastmri-reproducible-benchmark/fastmri_recon/data/oasis_sequences.py:103: ComplexWarning: Casting complex values to real discards the imaginary part\n",
      "  images_scaled = images_scaled.astype(np.float32)\n",
      "/volatile/home/Zaccharie/workspace/fastmri-reproducible-benchmark/fastmri_recon/data/oasis_sequences.py:103: ComplexWarning: Casting complex values to real discards the imaginary part\n",
      "  images_scaled = images_scaled.astype(np.float32)\n",
      "/volatile/home/Zaccharie/workspace/fastmri-reproducible-benchmark/fastmri_recon/data/oasis_sequences.py:103: ComplexWarning: Casting complex values to real discards the imaginary part\n",
      "  images_scaled = images_scaled.astype(np.float32)\n",
      "/volatile/home/Zaccharie/workspace/fastmri-reproducible-benchmark/fastmri_recon/data/oasis_sequences.py:103: ComplexWarning: Casting complex values to real discards the imaginary part\n",
      "  images_scaled = images_scaled.astype(np.float32)\n",
      "/volatile/home/Zaccharie/workspace/fastmri-reproducible-benchmark/fastmri_recon/data/oasis_sequences.py:103: ComplexWarning: Casting complex values to real discards the imaginary part\n",
      "  images_scaled = images_scaled.astype(np.float32)\n",
      "/volatile/home/Zaccharie/workspace/fastmri-reproducible-benchmark/fastmri_recon/data/oasis_sequences.py:103: ComplexWarning: Casting complex values to real discards the imaginary part\n",
      "  images_scaled = images_scaled.astype(np.float32)\n"
     ]
    },
    {
     "data": {
      "application/vnd.jupyter.widget-view+json": {
       "model_id": "",
       "version_major": 2,
       "version_minor": 0
      },
      "text/plain": [
       "HBox(children=(IntProgress(value=0, description='Epoch 32', max=5, style=ProgressStyle(description_width='init…"
      ]
     },
     "metadata": {},
     "output_type": "display_data"
    },
    {
     "name": "stderr",
     "output_type": "stream",
     "text": [
      "/volatile/home/Zaccharie/workspace/fastmri-reproducible-benchmark/fastmri_recon/data/oasis_sequences.py:103: ComplexWarning: Casting complex values to real discards the imaginary part\n",
      "  images_scaled = images_scaled.astype(np.float32)\n",
      "/volatile/home/Zaccharie/workspace/fastmri-reproducible-benchmark/fastmri_recon/data/oasis_sequences.py:103: ComplexWarning: Casting complex values to real discards the imaginary part\n",
      "  images_scaled = images_scaled.astype(np.float32)\n",
      "/volatile/home/Zaccharie/workspace/fastmri-reproducible-benchmark/fastmri_recon/data/oasis_sequences.py:103: ComplexWarning: Casting complex values to real discards the imaginary part\n",
      "  images_scaled = images_scaled.astype(np.float32)\n",
      "/volatile/home/Zaccharie/workspace/fastmri-reproducible-benchmark/fastmri_recon/data/oasis_sequences.py:103: ComplexWarning: Casting complex values to real discards the imaginary part\n",
      "  images_scaled = images_scaled.astype(np.float32)\n",
      "/volatile/home/Zaccharie/workspace/fastmri-reproducible-benchmark/fastmri_recon/data/oasis_sequences.py:103: ComplexWarning: Casting complex values to real discards the imaginary part\n",
      "  images_scaled = images_scaled.astype(np.float32)\n",
      "/volatile/home/Zaccharie/workspace/fastmri-reproducible-benchmark/fastmri_recon/data/oasis_sequences.py:103: ComplexWarning: Casting complex values to real discards the imaginary part\n",
      "  images_scaled = images_scaled.astype(np.float32)\n"
     ]
    },
    {
     "data": {
      "application/vnd.jupyter.widget-view+json": {
       "model_id": "",
       "version_major": 2,
       "version_minor": 0
      },
      "text/plain": [
       "HBox(children=(IntProgress(value=0, description='Epoch 33', max=5, style=ProgressStyle(description_width='init…"
      ]
     },
     "metadata": {},
     "output_type": "display_data"
    },
    {
     "name": "stderr",
     "output_type": "stream",
     "text": [
      "/volatile/home/Zaccharie/workspace/fastmri-reproducible-benchmark/fastmri_recon/data/oasis_sequences.py:103: ComplexWarning: Casting complex values to real discards the imaginary part\n",
      "  images_scaled = images_scaled.astype(np.float32)\n",
      "/volatile/home/Zaccharie/workspace/fastmri-reproducible-benchmark/fastmri_recon/data/oasis_sequences.py:103: ComplexWarning: Casting complex values to real discards the imaginary part\n",
      "  images_scaled = images_scaled.astype(np.float32)\n",
      "/volatile/home/Zaccharie/workspace/fastmri-reproducible-benchmark/fastmri_recon/data/oasis_sequences.py:103: ComplexWarning: Casting complex values to real discards the imaginary part\n",
      "  images_scaled = images_scaled.astype(np.float32)\n",
      "/volatile/home/Zaccharie/workspace/fastmri-reproducible-benchmark/fastmri_recon/data/oasis_sequences.py:103: ComplexWarning: Casting complex values to real discards the imaginary part\n",
      "  images_scaled = images_scaled.astype(np.float32)\n",
      "/volatile/home/Zaccharie/workspace/fastmri-reproducible-benchmark/fastmri_recon/data/oasis_sequences.py:103: ComplexWarning: Casting complex values to real discards the imaginary part\n",
      "  images_scaled = images_scaled.astype(np.float32)\n",
      "/volatile/home/Zaccharie/workspace/fastmri-reproducible-benchmark/fastmri_recon/data/oasis_sequences.py:103: ComplexWarning: Casting complex values to real discards the imaginary part\n",
      "  images_scaled = images_scaled.astype(np.float32)\n"
     ]
    },
    {
     "data": {
      "application/vnd.jupyter.widget-view+json": {
       "model_id": "",
       "version_major": 2,
       "version_minor": 0
      },
      "text/plain": [
       "HBox(children=(IntProgress(value=0, description='Epoch 34', max=5, style=ProgressStyle(description_width='init…"
      ]
     },
     "metadata": {},
     "output_type": "display_data"
    },
    {
     "name": "stderr",
     "output_type": "stream",
     "text": [
      "/volatile/home/Zaccharie/workspace/fastmri-reproducible-benchmark/fastmri_recon/data/oasis_sequences.py:103: ComplexWarning: Casting complex values to real discards the imaginary part\n",
      "  images_scaled = images_scaled.astype(np.float32)\n",
      "/volatile/home/Zaccharie/workspace/fastmri-reproducible-benchmark/fastmri_recon/data/oasis_sequences.py:103: ComplexWarning: Casting complex values to real discards the imaginary part\n",
      "  images_scaled = images_scaled.astype(np.float32)\n",
      "/volatile/home/Zaccharie/workspace/fastmri-reproducible-benchmark/fastmri_recon/data/oasis_sequences.py:103: ComplexWarning: Casting complex values to real discards the imaginary part\n",
      "  images_scaled = images_scaled.astype(np.float32)\n",
      "/volatile/home/Zaccharie/workspace/fastmri-reproducible-benchmark/fastmri_recon/data/oasis_sequences.py:103: ComplexWarning: Casting complex values to real discards the imaginary part\n",
      "  images_scaled = images_scaled.astype(np.float32)\n",
      "/volatile/home/Zaccharie/workspace/fastmri-reproducible-benchmark/fastmri_recon/data/oasis_sequences.py:103: ComplexWarning: Casting complex values to real discards the imaginary part\n",
      "  images_scaled = images_scaled.astype(np.float32)\n",
      "/volatile/home/Zaccharie/workspace/fastmri-reproducible-benchmark/fastmri_recon/data/oasis_sequences.py:103: ComplexWarning: Casting complex values to real discards the imaginary part\n",
      "  images_scaled = images_scaled.astype(np.float32)\n"
     ]
    },
    {
     "data": {
      "application/vnd.jupyter.widget-view+json": {
       "model_id": "",
       "version_major": 2,
       "version_minor": 0
      },
      "text/plain": [
       "HBox(children=(IntProgress(value=0, description='Epoch 35', max=5, style=ProgressStyle(description_width='init…"
      ]
     },
     "metadata": {},
     "output_type": "display_data"
    },
    {
     "name": "stderr",
     "output_type": "stream",
     "text": [
      "/volatile/home/Zaccharie/workspace/fastmri-reproducible-benchmark/fastmri_recon/data/oasis_sequences.py:103: ComplexWarning: Casting complex values to real discards the imaginary part\n",
      "  images_scaled = images_scaled.astype(np.float32)\n",
      "/volatile/home/Zaccharie/workspace/fastmri-reproducible-benchmark/fastmri_recon/data/oasis_sequences.py:103: ComplexWarning: Casting complex values to real discards the imaginary part\n",
      "  images_scaled = images_scaled.astype(np.float32)\n",
      "/volatile/home/Zaccharie/workspace/fastmri-reproducible-benchmark/fastmri_recon/data/oasis_sequences.py:103: ComplexWarning: Casting complex values to real discards the imaginary part\n",
      "  images_scaled = images_scaled.astype(np.float32)\n",
      "/volatile/home/Zaccharie/workspace/fastmri-reproducible-benchmark/fastmri_recon/data/oasis_sequences.py:103: ComplexWarning: Casting complex values to real discards the imaginary part\n",
      "  images_scaled = images_scaled.astype(np.float32)\n",
      "/volatile/home/Zaccharie/workspace/fastmri-reproducible-benchmark/fastmri_recon/data/oasis_sequences.py:103: ComplexWarning: Casting complex values to real discards the imaginary part\n",
      "  images_scaled = images_scaled.astype(np.float32)\n",
      "/volatile/home/Zaccharie/workspace/fastmri-reproducible-benchmark/fastmri_recon/data/oasis_sequences.py:103: ComplexWarning: Casting complex values to real discards the imaginary part\n",
      "  images_scaled = images_scaled.astype(np.float32)\n"
     ]
    },
    {
     "data": {
      "application/vnd.jupyter.widget-view+json": {
       "model_id": "",
       "version_major": 2,
       "version_minor": 0
      },
      "text/plain": [
       "HBox(children=(IntProgress(value=0, description='Epoch 36', max=5, style=ProgressStyle(description_width='init…"
      ]
     },
     "metadata": {},
     "output_type": "display_data"
    },
    {
     "name": "stderr",
     "output_type": "stream",
     "text": [
      "/volatile/home/Zaccharie/workspace/fastmri-reproducible-benchmark/fastmri_recon/data/oasis_sequences.py:103: ComplexWarning: Casting complex values to real discards the imaginary part\n",
      "  \"\"\"Get a training triplet from the file at `idx` in `self.filenames`.\n",
      "/volatile/home/Zaccharie/workspace/fastmri-reproducible-benchmark/fastmri_recon/data/oasis_sequences.py:103: ComplexWarning: Casting complex values to real discards the imaginary part\n",
      "  \"\"\"Get a training triplet from the file at `idx` in `self.filenames`.\n",
      "/volatile/home/Zaccharie/workspace/fastmri-reproducible-benchmark/fastmri_recon/data/oasis_sequences.py:103: ComplexWarning: Casting complex values to real discards the imaginary part\n",
      "  \"\"\"Get a training triplet from the file at `idx` in `self.filenames`.\n",
      "/volatile/home/Zaccharie/workspace/fastmri-reproducible-benchmark/fastmri_recon/data/oasis_sequences.py:103: ComplexWarning: Casting complex values to real discards the imaginary part\n",
      "  \"\"\"Get a training triplet from the file at `idx` in `self.filenames`.\n",
      "/volatile/home/Zaccharie/workspace/fastmri-reproducible-benchmark/fastmri_recon/data/oasis_sequences.py:103: ComplexWarning: Casting complex values to real discards the imaginary part\n",
      "  \"\"\"Get a training triplet from the file at `idx` in `self.filenames`.\n",
      "/volatile/home/Zaccharie/workspace/fastmri-reproducible-benchmark/fastmri_recon/data/oasis_sequences.py:103: ComplexWarning: Casting complex values to real discards the imaginary part\n",
      "  \"\"\"Get a training triplet from the file at `idx` in `self.filenames`.\n"
     ]
    },
    {
     "data": {
      "application/vnd.jupyter.widget-view+json": {
       "model_id": "1084483da307488e837e6f5a21fc0f3d",
       "version_major": 2,
       "version_minor": 0
      },
      "text/plain": [
       "HBox(children=(IntProgress(value=0, description='Epoch 37', max=5, style=ProgressStyle(description_width='init…"
      ]
     },
     "metadata": {},
     "output_type": "display_data"
    }
   ],
   "source": [
    "%%time\n",
    "model.fit_generator(\n",
    "    train_gen, \n",
    "    steps_per_epoch=5, \n",
    "    epochs=n_epochs,\n",
    "    validation_data=val_gen,\n",
    "    validation_steps=1,\n",
    "    verbose=0,\n",
    "    callbacks=[tqdm_cb, tboard_cback, chkpt_cback, ],\n",
    "#     max_queue_size=100,\n",
    "    use_multiprocessing=True,\n",
    "    workers=10,\n",
    "    shuffle=False,\n",
    ")"
   ]
  },
  {
   "cell_type": "code",
   "execution_count": null,
   "metadata": {
    "scrolled": true
   },
   "outputs": [],
   "source": [
    "# %%time\n",
    "# # simple overfit trials\n",
    "# data = train_gen[0]\n",
    "# val_data = val_gen[1]\n",
    "# model.fit(\n",
    "#     x=data[0], \n",
    "#     y=data[1], \n",
    "# #     validation_data=val_data, \n",
    "#     batch_size=data[0][0].shape[0], \n",
    "# #     callbacks=[tqdm_cb, tboard_cback,],\n",
    "#     epochs=500,\n",
    "#     verbose=2, \n",
    "#     shuffle=False,\n",
    "# )"
   ]
  },
  {
   "cell_type": "code",
   "execution_count": null,
   "metadata": {},
   "outputs": [],
   "source": []
  }
 ],
 "metadata": {
  "kernelspec": {
   "display_name": "Python 3",
   "language": "python",
   "name": "python3"
  },
  "language_info": {
   "codemirror_mode": {
    "name": "ipython",
    "version": 3
   },
   "file_extension": ".py",
   "mimetype": "text/x-python",
   "name": "python",
   "nbconvert_exporter": "python",
   "pygments_lexer": "ipython3",
   "version": "3.6.8"
  },
  "notify_time": "30"
 },
 "nbformat": 4,
 "nbformat_minor": 2
}

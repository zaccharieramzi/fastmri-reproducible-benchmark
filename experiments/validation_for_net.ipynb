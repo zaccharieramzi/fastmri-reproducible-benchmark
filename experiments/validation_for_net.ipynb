{
 "cells": [
  {
   "cell_type": "code",
   "execution_count": 1,
   "metadata": {},
   "outputs": [],
   "source": [
    "# # this just to make sure we are using only on CPU\n",
    "# import os\n",
    "# os.environ[\"CUDA_VISIBLE_DEVICES\"]=\"-1\""
   ]
  },
  {
   "cell_type": "code",
   "execution_count": 2,
   "metadata": {},
   "outputs": [
    {
     "name": "stderr",
     "output_type": "stream",
     "text": [
      "Using TensorFlow backend.\n"
     ]
    }
   ],
   "source": [
    "%load_ext autoreload\n",
    "%autoreload 2\n",
    "%matplotlib nbagg\n",
    "import time\n",
    "import warnings\n",
    "warnings.filterwarnings(\"ignore\")\n",
    "\n",
    "import matplotlib.pyplot as plt\n",
    "import numpy as np\n",
    "import pandas as pd\n",
    "from tqdm import tqdm_notebook\n",
    "\n",
    "from fastmri_recon.data.fastmri_sequences import ZeroFilled2DSequence, Masked2DSequence\n",
    "from fastmri_recon.helpers.evaluate import METRIC_FUNCS, Metrics\n",
    "from fastmri_recon.helpers.nn_mri import lrelu\n",
    "from fastmri_recon.helpers.reconstruction import reco_and_gt_unet_from_val_file, reco_and_gt_net_from_val_file, reco_and_gt_zfilled_from_val_file\n",
    "from fastmri_recon.models.cascading import cascade_net\n",
    "from fastmri_recon.models.kiki import kiki_net\n",
    "from fastmri_recon.models.kiki_sep import full_kiki_net\n",
    "from fastmri_recon.models.pdnet import pdnet\n",
    "from fastmri_recon.models.unet import unet"
   ]
  },
  {
   "cell_type": "code",
   "execution_count": 3,
   "metadata": {},
   "outputs": [],
   "source": [
    "np.random.seed(0)"
   ]
  },
  {
   "cell_type": "code",
   "execution_count": 4,
   "metadata": {},
   "outputs": [],
   "source": [
    "plt.rcParams['figure.figsize'] = (9, 5)\n",
    "plt.rcParams['image.cmap'] = 'gray'"
   ]
  },
  {
   "cell_type": "code",
   "execution_count": 5,
   "metadata": {},
   "outputs": [],
   "source": [
    "AF = 4\n",
    "contrast = 'CORPDFS_FBK' # CORPDFS_FBK CORPD_FBK None"
   ]
  },
  {
   "cell_type": "code",
   "execution_count": 6,
   "metadata": {},
   "outputs": [],
   "source": [
    "val_path = '/media/Zaccharie/UHRes/singlecoil_val/'\n",
    "val_gen_zero = ZeroFilled2DSequence(val_path, af=AF, norm=True, mode='validation', contrast=contrast)\n",
    "# val_gen_zero.filenames = val_gen_zero.filenames[:2]\n",
    "val_gen_scaled = Masked2DSequence(val_path, mode='validation', af=AF, scale_factor=1e6, contrast=contrast)\n",
    "# val_gen_scaled.filenames = val_gen_scaled.filenames[:2]"
   ]
  },
  {
   "cell_type": "code",
   "execution_count": 7,
   "metadata": {},
   "outputs": [],
   "source": [
    "all_net_params = [\n",
    "#     {\n",
    "#         'name': 'unet',\n",
    "#         'init_function': unet,\n",
    "#         'run_params': {\n",
    "#             'n_layers': 4,\n",
    "#             'pool': 'max',\n",
    "#             \"layers_n_channels\": [16, 32, 64, 128],\n",
    "#             'layers_n_non_lins': 2,\n",
    "#             'input_size': (320, 320, 1),\n",
    "#         },\n",
    "#         'val_gen': val_gen_zero,\n",
    "#         'run_id': 'unet_af4_1569210349',\n",
    "#         'reco_function': reco_and_gt_unet_from_val_file,\n",
    "#     },\n",
    "    {\n",
    "        'name': 'pdnet',\n",
    "        'init_function': pdnet,\n",
    "        'run_params': {\n",
    "            'n_primal': 5,\n",
    "            'n_dual': 5,\n",
    "            'n_iter': 10,\n",
    "            'n_filters': 32,\n",
    "        },\n",
    "        'val_gen': val_gen_scaled,\n",
    "        'run_id': 'pdnet_af4_1568384763',\n",
    "        'reco_function': reco_and_gt_net_from_val_file,\n",
    "    },\n",
    "#     {\n",
    "#         'name': 'cascadenet',\n",
    "#         'init_function': cascade_net,\n",
    "#         'run_params': {\n",
    "#             'n_cascade': 5,\n",
    "#             'n_convs': 5,\n",
    "#             'n_filters': 48,\n",
    "#             'noiseless': True,\n",
    "#         },\n",
    "#         'val_gen': val_gen_scaled,\n",
    "#         'run_id': 'cascadenet_af4_1568926824',\n",
    "#         'reco_function': reco_and_gt_net_from_val_file,\n",
    "#     },\n",
    "#     {\n",
    "#         'name': 'kikinet',\n",
    "#         'init_function': kiki_net,\n",
    "#         'run_params': {\n",
    "#             'n_cascade': 2,\n",
    "#             'n_convs': 25,\n",
    "#             'n_filters': 32,\n",
    "#             'noiseless': True,\n",
    "#         },\n",
    "#         'val_gen': val_gen_scaled,\n",
    "#         'run_id': 'kikinet_af4_1568724379',\n",
    "#         'reco_function': reco_and_gt_net_from_val_file,\n",
    "#     },\n",
    "#     {\n",
    "#         'name': 'kikinet-sep-8',\n",
    "#         'init_function': full_kiki_net,\n",
    "#         'run_params': {\n",
    "#             'n_convs': 8,\n",
    "#             'n_filters': 48,\n",
    "#             'noiseless': True,\n",
    "#             'activation': lrelu,\n",
    "#         },\n",
    "#         'val_gen': val_gen_scaled,\n",
    "#         'run_id': 'kikinet_sep_I2_af4_1569964596',\n",
    "#         'reco_function': reco_and_gt_net_from_val_file,\n",
    "#         'epoch': 50,\n",
    "#     },\n",
    "#     {\n",
    "#         'name': 'kikinet-sep-16',\n",
    "#         'init_function': full_kiki_net,\n",
    "#         'run_params': {\n",
    "#             'n_convs': 16,\n",
    "#             'n_filters': 48,\n",
    "#             'noiseless': True,\n",
    "#             'activation': lrelu,\n",
    "#         },\n",
    "#         'val_gen': val_gen_scaled,\n",
    "#         'run_id': 'kikinet_sep_I2_af4_1570049560',\n",
    "#         'reco_function': reco_and_gt_net_from_val_file,\n",
    "#         'epoch': 50,\n",
    "#     },\n",
    "]"
   ]
  },
  {
   "cell_type": "code",
   "execution_count": 8,
   "metadata": {},
   "outputs": [],
   "source": [
    "def unpack_model(init_function=None, run_params=None, run_id=None, epoch=300, **dummy_kwargs):\n",
    "    model = init_function(**run_params)\n",
    "    chkpt_path = f'../checkpoints/{run_id}-{epoch}.hdf5'\n",
    "    model.load_weights(chkpt_path)\n",
    "    return model\n",
    "\n",
    "def metrics_for_params(reco_function=None, val_gen=None, name=None, **net_params):\n",
    "    model = unpack_model(**net_params)\n",
    "    metrics = Metrics(METRIC_FUNCS)\n",
    "    pred_and_gt = [\n",
    "        reco_function(*val_gen[i], model)\n",
    "        for i in tqdm_notebook(range(len(val_gen)), desc=f'Val files for {name}')\n",
    "    ]    \n",
    "    for im_recos, images in tqdm_notebook(pred_and_gt, desc=f'Stats for {name}'):\n",
    "        metrics.push(images, im_recos)\n",
    "    return metrics\n",
    "\n",
    "def metrics_zfilled():\n",
    "    metrics = Metrics(METRIC_FUNCS)\n",
    "    pred_and_gt = [\n",
    "        reco_and_gt_zfilled_from_val_file(*val_gen_scaled[i])\n",
    "        for i in tqdm_notebook(range(len(val_gen_scaled)), desc='Val files for z-filled')\n",
    "    ]    \n",
    "    for im_recos, images in tqdm_notebook(pred_and_gt, desc='Stats for z-filled'):\n",
    "        metrics.push(images, im_recos)\n",
    "    return metrics"
   ]
  },
  {
   "cell_type": "code",
   "execution_count": null,
   "metadata": {},
   "outputs": [
    {
     "name": "stdout",
     "output_type": "stream",
     "text": [
      "WARNING:tensorflow:From /volatile/home/Zaccharie/workspace/fastmri-reproducible-benchmark/fastmri_recon/helpers/nn_mri.py:92: to_float (from tensorflow.python.ops.math_ops) is deprecated and will be removed in a future version.\n",
      "Instructions for updating:\n",
      "Use `tf.cast` instead.\n"
     ]
    },
    {
     "data": {
      "application/vnd.jupyter.widget-view+json": {
       "model_id": "60133b5a2a4343f5bd1f602f61eec800",
       "version_major": 2,
       "version_minor": 0
      },
      "text/plain": [
       "HBox(children=(FloatProgress(value=0.0, description='Val files for pdnet', max=99.0, style=ProgressStyle(descr…"
      ]
     },
     "metadata": {},
     "output_type": "display_data"
    },
    {
     "name": "stdout",
     "output_type": "stream",
     "text": [
      "WARNING:tensorflow:From /volatile/home/Zaccharie/workspace/fastmri-reproducible-benchmark/venv/lib/python3.6/site-packages/keras/backend/tensorflow_backend.py:422: The name tf.global_variables is deprecated. Please use tf.compat.v1.global_variables instead.\n",
      "\n"
     ]
    }
   ],
   "source": [
    "%%time\n",
    "metrics = []\n",
    "for net_params in all_net_params:\n",
    "    metrics.append((net_params['name'], metrics_for_params(**net_params)))\n",
    "    \n",
    "metrics.append(('zfilled', metrics_zfilled()))"
   ]
  },
  {
   "cell_type": "code",
   "execution_count": null,
   "metadata": {},
   "outputs": [],
   "source": [
    "metrics"
   ]
  },
  {
   "cell_type": "code",
   "execution_count": null,
   "metadata": {},
   "outputs": [],
   "source": [
    "metrics.sort(key=lambda x: x[1].metrics['PSNR'].mean())"
   ]
  },
  {
   "cell_type": "code",
   "execution_count": null,
   "metadata": {},
   "outputs": [],
   "source": [
    "# import pickle\n",
    "# with open('metrics_net_rec_fastmri', 'wb') as f:\n",
    "#     pickle.dump(metrics, f)"
   ]
  },
  {
   "cell_type": "code",
   "execution_count": null,
   "metadata": {},
   "outputs": [],
   "source": [
    "# # former metrics\n",
    "# metrics = [\n",
    "#     ('unet', {'PSNR': {'mean': 31.78, 'stddev': 6.534},  'SSIM':{'mean': 0.7205, 'stddev': 0.2595}}),\n",
    "#     ('pdnet', {'PSNR': {'mean': 32.15, 'stddev': 6.905},  'SSIM':{'mean': 0.7292, 'stddev': 0.2657}}),\n",
    "#     ('cascadenet', {'PSNR': {'mean': 31.97, 'stddev': 6.951},  'SSIM':{'mean': 0.7191, 'stddev': 0.2719}}),\n",
    "#     ('kikinet', {'PSNR': {'mean': 28.43, 'stddev': 4.345},  'SSIM':{'mean': 0.6307, 'stddev': 0.2366}}),\n",
    "#     ('zfilled', {'PSNR': {'mean': 29.61, 'stddev': 5.287},  'SSIM':{'mean': 0.6577, 'stddev': 0.2333}}),\n",
    "# ]"
   ]
  },
  {
   "cell_type": "code",
   "execution_count": null,
   "metadata": {},
   "outputs": [],
   "source": [
    "def n_model_params_for_params(reco_function=None, val_gen=None, name=None, **net_params):\n",
    "    model = unpack_model(**net_params)\n",
    "    n_params = model.count_params()\n",
    "    return n_params"
   ]
  },
  {
   "cell_type": "code",
   "execution_count": null,
   "metadata": {},
   "outputs": [],
   "source": [
    "%%time\n",
    "n_params = {}\n",
    "for net_params in all_net_params:\n",
    "    n_params[net_params['name']] =  n_model_params_for_params(**net_params)\n",
    "    \n",
    "n_params['zfilled'] =  0"
   ]
  },
  {
   "cell_type": "code",
   "execution_count": null,
   "metadata": {},
   "outputs": [],
   "source": [
    "def runtime_for_params(reco_function=None, val_gen=None, name=None, **net_params):\n",
    "    model = unpack_model(**net_params)\n",
    "    data = val_gen[0]\n",
    "    start = time.time()\n",
    "    reco_function(*data, model)\n",
    "    end = time.time()\n",
    "    return end - start\n",
    "\n",
    "def runtime_zfilled():\n",
    "    data = val_gen_scaled[0]\n",
    "    start = time.time()\n",
    "    reco_and_gt_zfilled_from_val_file(*data)\n",
    "    end = time.time()\n",
    "    return end - start"
   ]
  },
  {
   "cell_type": "code",
   "execution_count": null,
   "metadata": {},
   "outputs": [],
   "source": [
    "%%time\n",
    "runtimes = {}\n",
    "for net_params in tqdm_notebook(all_net_params):\n",
    "    runtimes[net_params['name']] =  runtime_for_params(**net_params)\n",
    "    \n",
    "runtimes['zfilled'] = runtime_zfilled()"
   ]
  },
  {
   "cell_type": "code",
   "execution_count": null,
   "metadata": {},
   "outputs": [],
   "source": [
    "metrics_table = pd.DataFrame(\n",
    "    index=[name for name, _ in metrics], \n",
    "    columns=['PSNR-mean (std) (dB)', 'SSIM-mean (std)', '# params', 'Runtime (s)'],\n",
    ")\n",
    "for name, m in metrics:\n",
    "    metrics_table.loc[name, 'PSNR-mean (std) (dB)'] = \"{mean:.4} ({std:.4})\".format(\n",
    "        mean=m.metrics['PSNR'].mean(), \n",
    "        std=m.metrics['PSNR'].stddev(),\n",
    "    )\n",
    "    metrics_table.loc[name, 'SSIM-mean (std)'] = \"{mean:.4} ({std:.4})\".format(\n",
    "        mean=m.metrics['SSIM'].mean(), \n",
    "        std=m.metrics['SSIM'].stddev(),\n",
    "    )\n",
    "    metrics_table.loc[name, '# params'] = \"{}\".format(\n",
    "        n_params[name], \n",
    "     )\n",
    "    metrics_table.loc[name, 'Runtime (s)'] = \"{runtime:.4}\".format(\n",
    "        runtime=runtimes[name], \n",
    "    )"
   ]
  },
  {
   "cell_type": "code",
   "execution_count": null,
   "metadata": {},
   "outputs": [],
   "source": [
    "metrics_table"
   ]
  },
  {
   "cell_type": "code",
   "execution_count": null,
   "metadata": {},
   "outputs": [],
   "source": []
  }
 ],
 "metadata": {
  "kernelspec": {
   "display_name": "Python 3",
   "language": "python",
   "name": "python3"
  },
  "language_info": {
   "codemirror_mode": {
    "name": "ipython",
    "version": 3
   },
   "file_extension": ".py",
   "mimetype": "text/x-python",
   "name": "python",
   "nbconvert_exporter": "python",
   "pygments_lexer": "ipython3",
   "version": "3.6.8"
  },
  "notify_time": "30"
 },
 "nbformat": 4,
 "nbformat_minor": 2
}
